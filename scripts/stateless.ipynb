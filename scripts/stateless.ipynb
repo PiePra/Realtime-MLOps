{
 "cells": [
  {
   "cell_type": "code",
   "execution_count": 31,
   "id": "9dd6daae-c8a1-4f09-a383-6753a15e4514",
   "metadata": {},
   "outputs": [
    {
     "name": "stderr",
     "output_type": "stream",
     "text": [
      "WARNING:root:(150, 9)\n"
     ]
    }
   ],
   "source": [
    "from datetime import datetime, timedelta\n",
    "from feast import FeatureStore\n",
    "import pandas as pd\n",
    "import logging\n",
    "\n",
    "FEATURE_SERVICE = \"crypto_stats\"\n",
    "ENTITY = \"symbol\"\n",
    "ENTITY_IDs = [\"BTC/USD\", \"ETH/USD\" ]\n",
    "FROM = \"\"\n",
    "TO = datetime.utcnow().timestamp()\n",
    "FREQUENCY= \"5T\"\n",
    "try:\n",
    "    FROM = float(FROM)\n",
    "except ValueError:\n",
    "    FROM = (datetime.utcnow() - timedelta(minutes = 150 * 5)).timestamp()\n",
    "\n",
    "entity_dfs = []\n",
    "for entity_id in ENTITY_IDs:\n",
    "    entity_df = pd.DataFrame.from_dict(\n",
    "        {\n",
    "            ENTITY: entity_id,\n",
    "            \"event_timestamp\": [item for item in pd.date_range(datetime.fromtimestamp(FROM), datetime.utcnow(), freq=FREQUENCY)]\n",
    "        }\n",
    "    )\n",
    "    entity_dfs.append(entity_df)\n",
    "\n",
    "feature_store = FeatureStore(\"../platform/feature-store/feature_store/feature_repo\")  # Initialize the feature store\n",
    "feature_service = feature_store.get_feature_service(FEATURE_SERVICE)\n",
    "\n",
    "training_dfs = []\n",
    "for entity_df in entity_dfs:\n",
    "    training_df = feature_store.get_historical_features(features=feature_service, entity_df=entity_df).to_df()\n",
    "    training_df = training_df.set_index(pd.DatetimeIndex(training_df['event_timestamp']))\n",
    "    training_dfs.append(training_df)\n",
    "\n",
    "for i in range(1, len(training_dfs)):\n",
    "    df = training_dfs[0].join(training_dfs[i], lsuffix=\"_\"+ENTITY_IDs[0][:3].lower(), rsuffix=\"_\"+ENTITY_IDs[i][:3].lower())\n",
    "    \n",
    "    \n",
    "\n",
    "df = df.dropna()\n",
    "df['y'] = df['close_btc'].shift(-1)\n",
    "df = df.iloc[:-1]\n",
    "\n",
    "first = df.index[0].timestamp()\n",
    "last = df.index[-1].timestamp()\n",
    "\n",
    "\n",
    "#logging.warning(df.head())\n",
    "keys = [x for x in df.columns if \"symbol\" not in x and \"timestamp\" not in x]\n",
    "df = df[keys].drop_duplicates()\n",
    "logging.warning(df.shape)"
   ]
  },
  {
   "cell_type": "code",
   "execution_count": 17,
   "id": "826b592b-71db-4c5b-bbff-ed9e7ea77f91",
   "metadata": {},
   "outputs": [
    {
     "data": {
      "text/plain": [
       "(150, 9)"
      ]
     },
     "execution_count": 17,
     "metadata": {},
     "output_type": "execute_result"
    }
   ],
   "source": [
    "df.shape"
   ]
  },
  {
   "cell_type": "code",
   "execution_count": 19,
   "id": "30e4c5c7-84bb-4468-ae7d-8422e5bfe277",
   "metadata": {},
   "outputs": [
    {
     "data": {
      "text/plain": [
       "Index(['open_btc', 'high_btc', 'low_btc', 'close_btc', 'open_eth', 'high_eth',\n",
       "       'low_eth', 'close_eth', 'y'],\n",
       "      dtype='object')"
      ]
     },
     "execution_count": 19,
     "metadata": {},
     "output_type": "execute_result"
    }
   ],
   "source": [
    "df.columns"
   ]
  },
  {
   "cell_type": "code",
   "execution_count": 40,
   "id": "7b0d8bd9-45d6-49e0-bf8a-cd521d97cfcd",
   "metadata": {},
   "outputs": [
    {
     "name": "stderr",
     "output_type": "stream",
     "text": [
      "2022/10/12 14:14:25 INFO mlflow.utils.autologging_utils: Created MLflow autologging run with ID '02bbb5bad7b34d4698a38b252169ce98', which will track hyperparameters, performance metrics, model artifacts, and lineage information for the current xgboost workflow\n",
      "WARNING:root:{'gamma': 0.0001, 'learning_rate': 0.01, 'max_depth': 2, 'n_estimators': 1000, 'random_state': 42}\n"
     ]
    }
   ],
   "source": [
    "from sklearn.model_selection import train_test_split\n",
    "import pickle\n",
    "import os\n",
    "import argparse\n",
    "import logging\n",
    "import numpy as np\n",
    "import pandas as pd\n",
    "import mlflow\n",
    "from mlflow.models.signature import infer_signature\n",
    "from xgboost import XGBRegressor\n",
    "from sklearn.metrics import mean_squared_error, mean_absolute_error, r2_score\n",
    "from sklearn.model_selection import GridSearchCV\n",
    "from mlflow.models.signature import infer_signature\n",
    "from sklearn.model_selection import train_test_split\n",
    "\n",
    "os.environ[\"AWS_ACCESS_KEY_ID\"] = \"mlflow\"\n",
    "os.environ[\"AWS_SECRET_ACCESS_KEY\"] = \"mlflow123\"\n",
    "os.environ[\"MLFLOW_S3_ENDPOINT_URL\"] = f\"http://mlflow-minio.mlflow.svc.cluster.local:9000/\"\n",
    "\n",
    "mlflow.set_tracking_uri(\"http://mlflow.mlflow.svc.cluster.local\")\n",
    "mlflow.set_experiment(\"bitcoin-xgb-tests\")\n",
    "\n",
    "df.index = pd.to_datetime(df.index)\n",
    "first = df.index[0].timestamp()\n",
    "last = df.index[-1].timestamp()\n",
    "keys = list(df.columns)\n",
    "keys.remove(\"y\")\n",
    "X = df[keys]\n",
    "y = df[\"y\"]\n",
    "\n",
    "random_state=int(\"42\")\n",
    "train_size = 0.9\n",
    "X = df[['open_btc', 'high_btc', 'low_btc', 'close_btc', 'open_eth', 'high_eth', 'low_eth', 'close_eth']]\n",
    "y = df['y']\n",
    "\n",
    "X_train, X_test, y_train, y_test = train_test_split(X, y, train_size=train_size, random_state=random_state)\n",
    "\n",
    "np.random.seed(random_state)\n",
    "\n",
    "def eval_metrics(actual, pred):\n",
    "    rmse = np.sqrt(mean_squared_error(actual, pred))\n",
    "    mae = mean_absolute_error(actual, pred)\n",
    "    r2 = r2_score(actual, pred)\n",
    "    return rmse, mae, r2\n",
    "\n",
    "parameters = {\n",
    "    'n_estimators': [600, 800, 1000],\n",
    "    'learning_rate': [0.01, 0.2],\n",
    "    'max_depth': [2, 3, 4],\n",
    "    'gamma': [0.0001, 0.001],\n",
    "    'random_state': [42]\n",
    "}\n",
    "model = XGBRegressor(objective='reg:squarederror')\n",
    "clf = GridSearchCV(model, parameters, n_jobs=-1)\n",
    "clf.fit(X_train, y_train)\n",
    "\n",
    "with mlflow.start_run():\n",
    "    mlflow.xgboost.autolog()\n",
    "    model = XGBRegressor(**clf.best_params_, objective='reg:squarederror')\n",
    "    model.fit(X_train, y_train, verbose=False)\n",
    "    logging.warning(clf.best_params_)\n",
    "    # Evaluate the best model with testing data.\n",
    "    y_hat = model.predict(X_test)\n",
    "    (rmse, mae, r2) = eval_metrics(y_test, y_hat)\n",
    "    mlflow.log_param(\"data_from\", first)\n",
    "    mlflow.log_param(\"data_to\", last)\n",
    "    mlflow.log_param(\"feature_view\", \"crypto_stats\")\n",
    "    mlflow.log_param(\"framework\", \"xgboost\")\n",
    "    mlflow.log_param(\"random_state\", random_state)\n",
    "    mlflow.log_param(\"num_items\", len(df))\n",
    "    mlflow.log_metric(\"rmse\", rmse)\n",
    "    mlflow.log_metric(\"r2\", r2)\n",
    "    mlflow.log_metric(\"mae\", mae)\n",
    "    model_signature = infer_signature(X_train, y_train)\n",
    "    #info = mlflow.xgboost.log_model(model, \"model\", registered_model_name=\"BitcoinForecast\", signature=model_signature)\n",
    "    uri = mlflow.get_artifact_uri()\n",
    "    storage_uri = f\"{uri}/model\""
   ]
  },
  {
   "cell_type": "code",
   "execution_count": 41,
   "id": "305b4cb2-eafa-422f-8f6b-1f78fcd7a60c",
   "metadata": {},
   "outputs": [
    {
     "data": {
      "text/plain": [
       "(event_timestamp\n",
       " 2022-10-12 05:27:09.345485    19087.22\n",
       " 2022-10-12 00:52:09.345485    19094.23\n",
       " 2022-10-12 09:12:09.345485    19156.71\n",
       " 2022-10-12 05:52:09.345485    19111.91\n",
       " 2022-10-12 05:42:09.345485    19107.92\n",
       " 2022-10-12 01:57:09.345485    19059.97\n",
       " 2022-10-12 04:42:09.345485    19107.10\n",
       " 2022-10-12 11:07:09.345485    19141.88\n",
       " 2022-10-12 05:02:09.345485    19089.50\n",
       " 2022-10-12 06:12:09.345485    19135.16\n",
       " 2022-10-12 08:32:09.345485    19130.80\n",
       " 2022-10-12 00:22:09.345485    19118.54\n",
       " 2022-10-12 02:22:09.345485    19065.58\n",
       " 2022-10-12 00:07:09.345485    19032.20\n",
       " 2022-10-12 00:57:09.345485    19087.94\n",
       " Name: y, dtype: float64,\n",
       " array([19086.85 , 19102.658, 19151.89 , 19125.459, 19081.594, 19056.05 ,\n",
       "        19089.908, 19151.791, 19095.271, 19115.363, 19133.945, 19076.47 ,\n",
       "        19053.371, 19057.771, 19093.463], dtype=float32))"
      ]
     },
     "execution_count": 41,
     "metadata": {},
     "output_type": "execute_result"
    }
   ],
   "source": [
    "y_test, y_hat"
   ]
  },
  {
   "cell_type": "code",
   "execution_count": 42,
   "id": "a0239cda-2436-4110-a5d6-9d5e55c2668c",
   "metadata": {},
   "outputs": [
    {
     "data": {
      "text/plain": [
       "(17.16312002823476, 13.240088541666774, 0.7157082243771994)"
      ]
     },
     "execution_count": 42,
     "metadata": {},
     "output_type": "execute_result"
    }
   ],
   "source": [
    "rmse, mae, r2"
   ]
  }
 ],
 "metadata": {
  "kernelspec": {
   "display_name": "Python 3 (ipykernel)",
   "language": "python",
   "name": "python3"
  },
  "language_info": {
   "codemirror_mode": {
    "name": "ipython",
    "version": 3
   },
   "file_extension": ".py",
   "mimetype": "text/x-python",
   "name": "python",
   "nbconvert_exporter": "python",
   "pygments_lexer": "ipython3",
   "version": "3.8.13"
  }
 },
 "nbformat": 4,
 "nbformat_minor": 5
}
