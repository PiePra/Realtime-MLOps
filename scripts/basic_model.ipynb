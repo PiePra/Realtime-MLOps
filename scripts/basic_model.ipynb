{
 "cells": [
  {
   "cell_type": "markdown",
   "id": "926f74b6-6a26-4af5-b759-1d30dbeb4521",
   "metadata": {},
   "source": [
    "# Fit a basic model and export to mlflow"
   ]
  },
  {
   "cell_type": "code",
   "execution_count": 24,
   "id": "1300debf-a61e-415e-be02-20694a32acbc",
   "metadata": {},
   "outputs": [],
   "source": [
    "import pandas as pd\n",
    "df = pd.read_csv('../data/BTC-2021min.csv')\n",
    "df['unix'] = pd.to_datetime(df['unix'], unit='s')\n",
    "df = df.set_index(pd.DatetimeIndex(df['unix']))\n",
    "df = df.drop(df[['symbol', 'Volume BTC', 'Volume USD', 'date', 'unix']], axis=1)\n",
    "df.sort_values(by='unix', inplace=True)"
   ]
  },
  {
   "cell_type": "code",
   "execution_count": 25,
   "id": "4dd9ba2e-4800-4f52-ae39-e1d7cbdf78e2",
   "metadata": {},
   "outputs": [
    {
     "data": {
      "text/plain": [
       "<AxesSubplot: xlabel='unix'>"
      ]
     },
     "execution_count": 25,
     "metadata": {},
     "output_type": "execute_result"
    },
    {
     "data": {
      "image/png": "[encoded data removed]",
      "text/plain": [
       "<Figure size 432x288 with 1 Axes>"
      ]
     },
     "metadata": {
      "needs_background": "light"
     },
     "output_type": "display_data"
    }
   ],
   "source": [
    "df.plot()"
   ]
  },
  {
   "cell_type": "code",
   "execution_count": 26,
   "id": "eb15bf01-26b8-41bc-9998-504928a670f2",
   "metadata": {},
   "outputs": [
    {
     "data": {
      "text/html": [
       "<div>\n",
       "<style scoped>\n",
       "    .dataframe tbody tr th:only-of-type {\n",
       "        vertical-align: middle;\n",
       "    }\n",
       "\n",
       "    .dataframe tbody tr th {\n",
       "        vertical-align: top;\n",
       "    }\n",
       "\n",
       "    .dataframe thead th {\n",
       "        text-align: right;\n",
       "    }\n",
       "</style>\n",
       "<table border=\"1\" class=\"dataframe\">\n",
       "  <thead>\n",
       "    <tr style=\"text-align: right;\">\n",
       "      <th></th>\n",
       "      <th>open</th>\n",
       "      <th>high</th>\n",
       "      <th>low</th>\n",
       "      <th>close</th>\n",
       "    </tr>\n",
       "  </thead>\n",
       "  <tbody>\n",
       "    <tr>\n",
       "      <th>count</th>\n",
       "      <td>610782.000000</td>\n",
       "      <td>610782.000000</td>\n",
       "      <td>610782.000000</td>\n",
       "      <td>610782.000000</td>\n",
       "    </tr>\n",
       "    <tr>\n",
       "      <th>mean</th>\n",
       "      <td>46482.265381</td>\n",
       "      <td>46509.783597</td>\n",
       "      <td>46454.085712</td>\n",
       "      <td>46482.567211</td>\n",
       "    </tr>\n",
       "    <tr>\n",
       "      <th>std</th>\n",
       "      <td>9453.990285</td>\n",
       "      <td>9454.798088</td>\n",
       "      <td>9453.135638</td>\n",
       "      <td>9454.107853</td>\n",
       "    </tr>\n",
       "    <tr>\n",
       "      <th>min</th>\n",
       "      <td>28093.810000</td>\n",
       "      <td>28397.520000</td>\n",
       "      <td>27734.000000</td>\n",
       "      <td>28073.030000</td>\n",
       "    </tr>\n",
       "    <tr>\n",
       "      <th>25%</th>\n",
       "      <td>38129.052500</td>\n",
       "      <td>38157.882500</td>\n",
       "      <td>38099.437500</td>\n",
       "      <td>38129.137500</td>\n",
       "    </tr>\n",
       "    <tr>\n",
       "      <th>50%</th>\n",
       "      <td>46666.960000</td>\n",
       "      <td>46697.745000</td>\n",
       "      <td>46636.710000</td>\n",
       "      <td>46667.295000</td>\n",
       "    </tr>\n",
       "    <tr>\n",
       "      <th>75%</th>\n",
       "      <td>54907.797500</td>\n",
       "      <td>54938.655000</td>\n",
       "      <td>54877.405000</td>\n",
       "      <td>54907.412500</td>\n",
       "    </tr>\n",
       "    <tr>\n",
       "      <th>max</th>\n",
       "      <td>69000.000000</td>\n",
       "      <td>69000.000000</td>\n",
       "      <td>68799.990000</td>\n",
       "      <td>69000.000000</td>\n",
       "    </tr>\n",
       "  </tbody>\n",
       "</table>\n",
       "</div>"
      ],
      "text/plain": [
       "                open           high            low          close\n",
       "count  610782.000000  610782.000000  610782.000000  610782.000000\n",
       "mean    46482.265381   46509.783597   46454.085712   46482.567211\n",
       "std      9453.990285    9454.798088    9453.135638    9454.107853\n",
       "min     28093.810000   28397.520000   27734.000000   28073.030000\n",
       "25%     38129.052500   38157.882500   38099.437500   38129.137500\n",
       "50%     46666.960000   46697.745000   46636.710000   46667.295000\n",
       "75%     54907.797500   54938.655000   54877.405000   54907.412500\n",
       "max     69000.000000   69000.000000   68799.990000   69000.000000"
      ]
     },
     "execution_count": 26,
     "metadata": {},
     "output_type": "execute_result"
    }
   ],
   "source": [
    "df.describe()"
   ]
  },
  {
   "cell_type": "markdown",
   "id": "bb2d0a80-f627-4ad0-a09b-27fb89cf0bda",
   "metadata": {},
   "source": [
    "# Get Y Value and resample to 5 min interval"
   ]
  },
  {
   "cell_type": "code",
   "execution_count": 27,
   "id": "5710cfa5-9be3-438b-b5d8-72a5927cee02",
   "metadata": {},
   "outputs": [],
   "source": [
    "df['y'] = df['close'].shift(-1)\n",
    "df = df[:-1]\n",
    "df = df.resample('5Min').asfreq().dropna()"
   ]
  },
  {
   "cell_type": "code",
   "execution_count": 28,
   "id": "b41b60c1-a341-4645-8eda-b57fa7d4f350",
   "metadata": {},
   "outputs": [],
   "source": [
    "first = df.index[0].timestamp()\n",
    "last = df.index[-1].timestamp()"
   ]
  },
  {
   "cell_type": "markdown",
   "id": "e18b0fef-2a2d-42b5-8ec5-74439f41621c",
   "metadata": {},
   "source": [
    "# Get ETH Data"
   ]
  },
  {
   "cell_type": "code",
   "execution_count": 29,
   "id": "afc09033-0cf9-45cd-b80b-1746a9610681",
   "metadata": {},
   "outputs": [],
   "source": [
    "df_eth = pd.read_csv('../data/ETHUSD_5.csv', header = None, names = [\"unix\", \"open\", \"high\", \"low\", \"close\", \"volume\", \"trades\"])\n",
    "df_eth['unix'] = pd.to_datetime(df_eth['unix'], unit='s')\n",
    "df_eth = df_eth.set_index(pd.DatetimeIndex(df_eth['unix']))\n",
    "df_eth = df_eth.drop(df_eth[['volume', 'trades', 'unix']], axis=1)\n",
    "df_eth.sort_values(by='unix', inplace=True)"
   ]
  },
  {
   "cell_type": "markdown",
   "id": "8dfc7bde-c7cd-4e91-9bc2-1357f5b6697f",
   "metadata": {},
   "source": [
    "# Join"
   ]
  },
  {
   "cell_type": "code",
   "execution_count": 30,
   "id": "27d1f8f7-670b-4074-8ff7-cc5951e0e607",
   "metadata": {},
   "outputs": [],
   "source": [
    "df = df.join(df_eth, on='unix', how='inner', lsuffix='_btc', rsuffix='_eth')"
   ]
  },
  {
   "cell_type": "markdown",
   "id": "00909501-86b1-4965-9b66-9fbb9e56894e",
   "metadata": {},
   "source": [
    "# Generate Train Test split"
   ]
  },
  {
   "cell_type": "code",
   "execution_count": 31,
   "id": "c73002f3-89e1-4c76-88fe-07b9cd769eef",
   "metadata": {},
   "outputs": [],
   "source": [
    "from sklearn.model_selection import train_test_split\n",
    "random_state = 42\n",
    "train_size = 0.8\n",
    "X = df[['open_btc', 'high_btc', 'low_btc', 'close_btc', 'open_eth', 'high_eth', 'low_eth', 'close_eth']]\n",
    "y = df['y']\n",
    "\n",
    "X_train, X_test, y_train, y_test = train_test_split(X, y, train_size=train_size, random_state=random_state)\n",
    "#X_train, X_val, y_train, y_val = train_test_split(X_train, y_train, train_size=train_size, random_state=random_state) "
   ]
  },
  {
   "cell_type": "markdown",
   "id": "73744a26-897e-4212-b2a8-3d431943fbf0",
   "metadata": {},
   "source": [
    "# Configure MLFlow endpoint"
   ]
  },
  {
   "cell_type": "code",
   "execution_count": 33,
   "id": "939ef63d-b399-4217-8732-3e002bcf21b8",
   "metadata": {},
   "outputs": [
    {
     "data": {
      "text/plain": [
       "<Experiment: artifact_location='s3://mlflow/1', creation_time=None, experiment_id='1', last_update_time=None, lifecycle_stage='active', name='bitcoin', tags={}>"
      ]
     },
     "execution_count": 33,
     "metadata": {},
     "output_type": "execute_result"
    }
   ],
   "source": [
    "import os\n",
    "import mlflow\n",
    "\n",
    "os.environ[\"AWS_ACCESS_KEY_ID\"] = \"mlflow\"\n",
    "os.environ[\"AWS_SECRET_ACCESS_KEY\"] = \"mlflow123\"\n",
    "os.environ[\"MLFLOW_S3_ENDPOINT_URL\"] = f\"http://mlflow-minio.mlflow.svc.cluster.local:9000/\"\n",
    "model_artifact_name = \"model\"\n",
    "\n",
    "mlflow.set_tracking_uri(\"http://mlflow.mlflow.svc.cluster.local\")\n",
    "mlflow.set_experiment(\"bitcoin\")"
   ]
  },
  {
   "cell_type": "markdown",
   "id": "9758e70c-8aca-4ab6-af8e-861f993ca237",
   "metadata": {},
   "source": [
    "# Fit and export the model"
   ]
  },
  {
   "cell_type": "code",
   "execution_count": 36,
   "id": "7ff3be1e-68d8-4af8-ade3-e77a63a7cb59",
   "metadata": {},
   "outputs": [
    {
     "name": "stdout",
     "output_type": "stream",
     "text": [
      "Epoch 1/5\n",
      "  1/780 [..............................] - ETA: 3:37 - loss: 7669894144.0000WARNING:tensorflow:Callback method `on_train_batch_end` is slow compared to the batch time (batch time: 0.0011s vs `on_train_batch_end` time: 0.0016s). Check your callbacks.\n"
     ]
    },
    {
     "name": "stderr",
     "output_type": "stream",
     "text": [
      "WARNING:tensorflow:Callback method `on_train_batch_end` is slow compared to the batch time (batch time: 0.0011s vs `on_train_batch_end` time: 0.0016s). Check your callbacks.\n"
     ]
    },
    {
     "name": "stdout",
     "output_type": "stream",
     "text": [
      "780/780 [==============================] - 2s 2ms/step - loss: 206574656.0000 - val_loss: 93068.0312\n",
      "Epoch 2/5\n",
      "780/780 [==============================] - 1s 2ms/step - loss: 53718.8164 - val_loss: 25320.8164\n",
      "Epoch 3/5\n",
      "780/780 [==============================] - 1s 1ms/step - loss: 12681.2617 - val_loss: 6082.8105\n",
      "Epoch 4/5\n",
      "780/780 [==============================] - 1s 1ms/step - loss: 4634.7124 - val_loss: 4152.1084\n",
      "Epoch 5/5\n",
      "780/780 [==============================] - 1s 1ms/step - loss: 4105.3643 - val_loss: 4141.6431\n",
      "INFO:tensorflow:Assets written to: /tmp/tmpsf3axpr4/model/data/model/assets\n"
     ]
    },
    {
     "name": "stderr",
     "output_type": "stream",
     "text": [
      "INFO:tensorflow:Assets written to: /tmp/tmpsf3axpr4/model/data/model/assets\n"
     ]
    },
    {
     "name": "stdout",
     "output_type": "stream",
     "text": [
      "762/762 [==============================] - 1s 763us/step\n"
     ]
    },
    {
     "name": "stderr",
     "output_type": "stream",
     "text": [
      "/home/pierre/miniconda3/envs/realtime-mlops/lib/python3.10/site-packages/mlflow/keras.py:405: UserWarning: The pyfunc inference behavior of Keras models logged with signatures differs from the behavior of Keras models logged without signatures. Specifically, when a signature is present, passing a Pandas DataFrame as input to the pyfunc `predict()` API produces an `ndarray` (for single-output models) or a dictionary of `str -> ndarray`: (for multi-output models). In contrast, when a signature is *not* present, `predict()` produces a Pandas DataFrame output in response to a Pandas DataFrame input.\n",
      "  warnings.warn(\n"
     ]
    },
    {
     "name": "stdout",
     "output_type": "stream",
     "text": [
      "INFO:tensorflow:Assets written to: /tmp/tmp4mc32gso/model/data/model/assets\n"
     ]
    },
    {
     "name": "stderr",
     "output_type": "stream",
     "text": [
      "INFO:tensorflow:Assets written to: /tmp/tmp4mc32gso/model/data/model/assets\n",
      "Registered model 'BitcoinForecast' already exists. Creating a new version of this model...\n",
      "2022/10/04 17:40:13 INFO mlflow.tracking._model_registry.client: Waiting up to 300 seconds for model version to finish creation.                     Model name: BitcoinForecast, version 4\n",
      "Created version '4' of model 'BitcoinForecast'.\n"
     ]
    }
   ],
   "source": [
    "import logging\n",
    "import mlflow\n",
    "import tensorflow as tf\n",
    "from tensorflow.keras.layers import Dense\n",
    "from tensorflow.keras.models import Sequential\n",
    "import numpy as np\n",
    "from sklearn.metrics import mean_squared_error, mean_absolute_error, r2_score\n",
    "from mlflow.models.signature import infer_signature\n",
    "\n",
    "np.random.seed(random_state)\n",
    "tf.random.set_seed(random_state) \n",
    "\n",
    "logging.basicConfig(level=logging.WARN)\n",
    "logger = logging.getLogger(__name__)\n",
    "\n",
    "def eval_metrics(actual, pred):\n",
    "    rmse = np.sqrt(mean_squared_error(actual, pred))\n",
    "    mae = mean_absolute_error(actual, pred)\n",
    "    r2 = r2_score(actual, pred)\n",
    "    return rmse, mae, r2\n",
    "\n",
    "if __name__ == \"__main__\":\n",
    "    with mlflow.start_run():\n",
    "        mlflow.tensorflow.autolog()\n",
    "        \n",
    "        model = Sequential()\n",
    "        model.add(Dense(32, input_shape=(X_train.shape[-1],), activation=\"relu\", name=\"hidden_layer\"))\n",
    "        model.add(Dense(16))\n",
    "        model.add(Dense(1))\n",
    "        model.compile(loss=\"mse\", optimizer=\"adam\")\n",
    "        \n",
    "        model.fit(X_train, y_train, epochs=5, batch_size=100, validation_split=.2)\n",
    "               \n",
    "        # Evaluate the best model with testing data.\n",
    "        y_hat = model.predict(X_test)\n",
    "        (rmse, mae, r2) = eval_metrics(y_test, y_hat)\n",
    "        mlflow.log_param(\"data_from\", first)\n",
    "        mlflow.log_param(\"data_to\", last)\n",
    "        mlflow.log_param(\"feature_view\", \"crypto_stats\")\n",
    "        mlflow.log_param(\"framework\", \"tensorflow\")\n",
    "        mlflow.log_param(\"version\", tf.__version__)\n",
    "        mlflow.log_param(\"random_state\", random_state)\n",
    "        mlflow.log_metric(\"rmse\", rmse)\n",
    "        mlflow.log_metric(\"r2\", r2)\n",
    "        mlflow.log_metric(\"mae\", mae)\n",
    "        lr = res = {\"lr_\" + str(key): val for key, val in model.optimizer.get_config().items()}\n",
    "        mlflow.log_params(lr)\n",
    "        \n",
    "        model_signature = infer_signature(X_train, y_train)\n",
    "        info = mlflow.keras.log_model(model, model_artifact_name, registered_model_name=\"BitcoinForecast\", signature=model_signature)\n",
    "        \n",
    "        uri = mlflow.get_artifact_uri()"
   ]
  },
  {
   "cell_type": "markdown",
   "id": "79cb41a3-991e-4c68-8a8d-ecb0ba08da8e",
   "metadata": {
    "tags": []
   },
   "source": [
    "# Update the inferenseservice yaml"
   ]
  },
  {
   "cell_type": "code",
   "execution_count": 200,
   "id": "d5be817e-9663-4808-974a-78817701309d",
   "metadata": {},
   "outputs": [],
   "source": [
    "storage_uri = f\"{uri}/{model_artifact_name}\""
   ]
  },
  {
   "cell_type": "code",
   "execution_count": 201,
   "id": "a67ec718-d9a6-4b22-8477-cab9440368f0",
   "metadata": {},
   "outputs": [],
   "source": [
    "#https://github.com/ipython/ipython/issues/6701\n",
    "from IPython.core.magic import register_line_cell_magic\n",
    "\n",
    "@register_line_cell_magic\n",
    "def writetemplate(line, cell):\n",
    "    with open(line, 'w') as f:\n",
    "        f.write(cell.format(**globals()))"
   ]
  },
  {
   "cell_type": "code",
   "execution_count": 202,
   "id": "527e828d-e802-4241-948c-d2f75052a8ed",
   "metadata": {},
   "outputs": [],
   "source": [
    "%%writetemplate deployment/isvc.yaml\n",
    "\n",
    "apiVersion: \"serving.kserve.io/v1beta1\"\n",
    "kind: \"InferenceService\"\n",
    "metadata:\n",
    "  name: \"bitcoin-forecast\"\n",
    "  namespace: default\n",
    "  labels:\n",
    "    networking.knative.dev/visibility: cluster-local\n",
    "spec:\n",
    "  predictor:\n",
    "    serviceAccountName: sa-s3\n",
    "    model:\n",
    "      modelFormat:\n",
    "        name: mlflow\n",
    "      protocolVersion: v2\n",
    "      storageUri: {storage_uri}"
   ]
  },
  {
   "cell_type": "code",
   "execution_count": 205,
   "id": "2e286727-159a-4314-9a8c-fe9f8d33299e",
   "metadata": {},
   "outputs": [],
   "source": [
    "%%writetemplate ../feast-kserve-transform/deployment/isvc.yaml\n",
    "\n",
    "apiVersion: \"serving.kserve.io/v1beta1\"\n",
    "kind: \"InferenceService\"\n",
    "metadata:\n",
    "  name: \"bitcoin-forecast\"\n",
    "  namespace: default\n",
    "  labels:\n",
    "    networking.knative.dev/visibility: cluster-local\n",
    "spec:\n",
    "  predictor:\n",
    "    serviceAccountName: sa-s3\n",
    "    model:\n",
    "      modelFormat:\n",
    "        name: mlflow\n",
    "      protocolVersion: v2\n",
    "      storageUri: {storage_uri}\n",
    "  transformer:\n",
    "    containers:\n",
    "    - image: piepra/feast-transformer:1.2\n",
    "      name: btc-transfomer\n",
    "      command:\n",
    "      - \"python\"\n",
    "      - \"app/app.py\"\n",
    "      args:\n",
    "      - --feast_serving_url\n",
    "      - feast-feature-server.feast.svc.cluster.local:80\n",
    "      - --entity_ids\n",
    "      - \"BTC/USD\"\n",
    "      - --feature_refs\n",
    "      - \"crypto_stats:open\"\n",
    "      - \"crypto_stats:high\"\n",
    "      - \"crypto_stats:low\"\n",
    "      - \"crypto_stats:close\"\n",
    "      - --protocol\n",
    "      - v2"
   ]
  },
  {
   "cell_type": "code",
   "execution_count": 3,
   "id": "6c27e7ab-7671-4807-8994-3189e05f15b6",
   "metadata": {},
   "outputs": [
    {
     "name": "stdout",
     "output_type": "stream",
     "text": [
      "*   Trying 10.96.114.89:80...\n",
      "* Connected to bitcoin-forecast.default.svc.cluster.local (10.96.114.89) port 80 (#0)\n",
      "> POST /v2/models/bitcoin-forecast-basic/infer HTTP/1.1\n",
      "> Host: bitcoin-forecast.default.svc.cluster.local\n",
      "> User-Agent: curl/7.81.0\n",
      "> Accept: */*\n",
      "> Content-Type: application/json\n",
      "> Content-Length: 494\n",
      "> \n",
      "^C\n"
     ]
    }
   ],
   "source": [
    "!curl -v -H \"Content-Type: application/json\" -d @./payload.json \\\n",
    " http://bitcoin-forecast.default.svc.cluster.local/v2/models/bitcoin-forecast-basic/infer"
   ]
  }
 ],
 "metadata": {
  "kernelspec": {
   "display_name": "Python 3 (ipykernel)",
   "language": "python",
   "name": "python3"
  },
  "language_info": {
   "codemirror_mode": {
    "name": "ipython",
    "version": 3
   },
   "file_extension": ".py",
   "mimetype": "text/x-python",
   "name": "python",
   "nbconvert_exporter": "python",
   "pygments_lexer": "ipython3",
   "version": "3.10.4"
  }
 },
 "nbformat": 4,
 "nbformat_minor": 5
}
