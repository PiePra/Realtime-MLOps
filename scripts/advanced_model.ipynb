{
 "cells": [
  {
   "cell_type": "markdown",
   "id": "926f74b6-6a26-4af5-b759-1d30dbeb4521",
   "metadata": {},
   "source": [
    "# Fit a basic model and export to mlflow"
   ]
  },
  {
   "cell_type": "code",
   "execution_count": 1,
   "id": "1300debf-a61e-415e-be02-20694a32acbc",
   "metadata": {},
   "outputs": [],
   "source": [
    "import pandas as pd\n",
    "df = pd.read_csv('../data/BTCUSD_5.csv', header = None, names = [\"unix\", \"open\", \"high\", \"low\", \"close\", \"volume\", \"trades\"])\n",
    "df['unix'] = pd.to_datetime(df['unix'], unit='s')\n",
    "df = df.set_index(pd.DatetimeIndex(df['unix']))\n",
    "df = df.drop(df[['volume', 'trades', 'unix']], axis=1)\n",
    "df.sort_values(by='unix', inplace=True)"
   ]
  },
  {
   "cell_type": "code",
   "execution_count": 2,
   "id": "e5e63198-7930-46a5-acfd-c9f95191edbb",
   "metadata": {},
   "outputs": [],
   "source": [
    "from ta.momentum import RSIIndicator,StochasticOscillator\n",
    "df['ema_9'] = df['close'].ewm(9).mean() # exponential moving average of window 9\n",
    "df['sma_5'] = df['close'].rolling(5).mean() # moving average of window 5\n",
    "df['sma_20'] = df['close'].rolling(20).mean() # moving average of window 20\n",
    "EMA_12 = pd.Series(df['close'].ewm(span=12, min_periods=12).mean())\n",
    "EMA_26 = pd.Series(df['close'].ewm(span=26, min_periods=26).mean())\n",
    "df['macd'] = pd.Series(EMA_12 - EMA_26)    # calculates Moving Average Convergence Divergence\n",
    "df['rsi'] = RSIIndicator(df['close']).rsi() # calculates Relative Strength Index \n",
    "df['stochastic']=StochasticOscillator(df['high'],df['low'],df['close']).stoch()"
   ]
  },
  {
   "cell_type": "code",
   "execution_count": 3,
   "id": "e9c7a287-99ac-4cdb-bd34-dc983d4c9646",
   "metadata": {},
   "outputs": [],
   "source": [
    "# Dropping rows with Na values\n",
    "df = df.dropna()"
   ]
  },
  {
   "cell_type": "markdown",
   "id": "2bde1dfa-a92a-4986-8ab0-47abdfd87179",
   "metadata": {},
   "source": [
    "## get Y"
   ]
  },
  {
   "cell_type": "code",
   "execution_count": 4,
   "id": "0202f1b9-b1cd-4fbc-929e-da59b2a06317",
   "metadata": {},
   "outputs": [],
   "source": [
    "df['y'] = df['close'].shift(-1)\n",
    "df = df[:-1]\n",
    "first = df.index[0].timestamp()\n",
    "last = df.index[-1].timestamp()"
   ]
  },
  {
   "cell_type": "code",
   "execution_count": 5,
   "id": "89ea6a3a-f99c-4c9c-99cc-94d3af0a7617",
   "metadata": {},
   "outputs": [
    {
     "data": {
      "text/html": [
       "<div>\n",
       "<style scoped>\n",
       "    .dataframe tbody tr th:only-of-type {\n",
       "        vertical-align: middle;\n",
       "    }\n",
       "\n",
       "    .dataframe tbody tr th {\n",
       "        vertical-align: top;\n",
       "    }\n",
       "\n",
       "    .dataframe thead th {\n",
       "        text-align: right;\n",
       "    }\n",
       "</style>\n",
       "<table border=\"1\" class=\"dataframe\">\n",
       "  <thead>\n",
       "    <tr style=\"text-align: right;\">\n",
       "      <th></th>\n",
       "      <th>open</th>\n",
       "      <th>high</th>\n",
       "      <th>low</th>\n",
       "      <th>close</th>\n",
       "      <th>ema_9</th>\n",
       "      <th>sma_5</th>\n",
       "      <th>sma_20</th>\n",
       "      <th>macd</th>\n",
       "      <th>rsi</th>\n",
       "      <th>stochastic</th>\n",
       "      <th>y</th>\n",
       "    </tr>\n",
       "    <tr>\n",
       "      <th>unix</th>\n",
       "      <th></th>\n",
       "      <th></th>\n",
       "      <th></th>\n",
       "      <th></th>\n",
       "      <th></th>\n",
       "      <th></th>\n",
       "      <th></th>\n",
       "      <th></th>\n",
       "      <th></th>\n",
       "      <th></th>\n",
       "      <th></th>\n",
       "    </tr>\n",
       "  </thead>\n",
       "  <tbody>\n",
       "    <tr>\n",
       "      <th>2021-08-07 08:30:00</th>\n",
       "      <td>43902.1</td>\n",
       "      <td>43902.1</td>\n",
       "      <td>43902.1</td>\n",
       "      <td>43902.1</td>\n",
       "      <td>41680.635908</td>\n",
       "      <td>43395.86</td>\n",
       "      <td>40844.785</td>\n",
       "      <td>951.717121</td>\n",
       "      <td>71.691991</td>\n",
       "      <td>100.000000</td>\n",
       "      <td>44158.8</td>\n",
       "    </tr>\n",
       "    <tr>\n",
       "      <th>2021-08-07 09:30:00</th>\n",
       "      <td>44158.7</td>\n",
       "      <td>44158.8</td>\n",
       "      <td>44158.7</td>\n",
       "      <td>44158.8</td>\n",
       "      <td>41943.752477</td>\n",
       "      <td>43627.46</td>\n",
       "      <td>41086.915</td>\n",
       "      <td>1003.471642</td>\n",
       "      <td>72.708835</td>\n",
       "      <td>100.000000</td>\n",
       "      <td>43216.9</td>\n",
       "    </tr>\n",
       "    <tr>\n",
       "      <th>2021-08-07 10:25:00</th>\n",
       "      <td>43216.9</td>\n",
       "      <td>43216.9</td>\n",
       "      <td>43216.9</td>\n",
       "      <td>43216.9</td>\n",
       "      <td>42078.098180</td>\n",
       "      <td>43562.24</td>\n",
       "      <td>41258.505</td>\n",
       "      <td>964.780071</td>\n",
       "      <td>63.671258</td>\n",
       "      <td>78.894416</td>\n",
       "      <td>44469.4</td>\n",
       "    </tr>\n",
       "    <tr>\n",
       "      <th>2021-08-07 13:15:00</th>\n",
       "      <td>43860.9</td>\n",
       "      <td>44469.4</td>\n",
       "      <td>43860.9</td>\n",
       "      <td>44469.4</td>\n",
       "      <td>42329.048442</td>\n",
       "      <td>43899.28</td>\n",
       "      <td>41472.580</td>\n",
       "      <td>1013.660314</td>\n",
       "      <td>69.160687</td>\n",
       "      <td>100.000000</td>\n",
       "      <td>42119.7</td>\n",
       "    </tr>\n",
       "    <tr>\n",
       "      <th>2021-08-07 13:20:00</th>\n",
       "      <td>43860.9</td>\n",
       "      <td>43861.0</td>\n",
       "      <td>42119.7</td>\n",
       "      <td>42119.7</td>\n",
       "      <td>42307.186860</td>\n",
       "      <td>43573.38</td>\n",
       "      <td>41583.540</td>\n",
       "      <td>869.395577</td>\n",
       "      <td>52.985389</td>\n",
       "      <td>32.763900</td>\n",
       "      <td>43347.7</td>\n",
       "    </tr>\n",
       "    <tr>\n",
       "      <th>...</th>\n",
       "      <td>...</td>\n",
       "      <td>...</td>\n",
       "      <td>...</td>\n",
       "      <td>...</td>\n",
       "      <td>...</td>\n",
       "      <td>...</td>\n",
       "      <td>...</td>\n",
       "      <td>...</td>\n",
       "      <td>...</td>\n",
       "      <td>...</td>\n",
       "      <td>...</td>\n",
       "    </tr>\n",
       "    <tr>\n",
       "      <th>2022-06-30 20:45:00</th>\n",
       "      <td>18750.0</td>\n",
       "      <td>18750.0</td>\n",
       "      <td>18750.0</td>\n",
       "      <td>18750.0</td>\n",
       "      <td>19208.110808</td>\n",
       "      <td>18884.24</td>\n",
       "      <td>19292.725</td>\n",
       "      <td>-292.440944</td>\n",
       "      <td>31.942950</td>\n",
       "      <td>0.000000</td>\n",
       "      <td>18676.7</td>\n",
       "    </tr>\n",
       "    <tr>\n",
       "      <th>2022-06-30 20:50:00</th>\n",
       "      <td>18676.7</td>\n",
       "      <td>18676.7</td>\n",
       "      <td>18676.7</td>\n",
       "      <td>18676.7</td>\n",
       "      <td>19154.969727</td>\n",
       "      <td>18859.28</td>\n",
       "      <td>19223.150</td>\n",
       "      <td>-300.545148</td>\n",
       "      <td>30.613437</td>\n",
       "      <td>0.000000</td>\n",
       "      <td>18814.6</td>\n",
       "    </tr>\n",
       "    <tr>\n",
       "      <th>2022-06-30 21:10:00</th>\n",
       "      <td>18814.6</td>\n",
       "      <td>18814.6</td>\n",
       "      <td>18814.6</td>\n",
       "      <td>18814.6</td>\n",
       "      <td>19120.932755</td>\n",
       "      <td>18855.58</td>\n",
       "      <td>19164.100</td>\n",
       "      <td>-292.469009</td>\n",
       "      <td>36.009512</td>\n",
       "      <td>29.440649</td>\n",
       "      <td>18880.2</td>\n",
       "    </tr>\n",
       "    <tr>\n",
       "      <th>2022-06-30 22:45:00</th>\n",
       "      <td>18880.2</td>\n",
       "      <td>18880.2</td>\n",
       "      <td>18880.2</td>\n",
       "      <td>18880.2</td>\n",
       "      <td>19096.859479</td>\n",
       "      <td>18853.32</td>\n",
       "      <td>19108.530</td>\n",
       "      <td>-277.575521</td>\n",
       "      <td>38.461258</td>\n",
       "      <td>43.445773</td>\n",
       "      <td>19746.0</td>\n",
       "    </tr>\n",
       "    <tr>\n",
       "      <th>2022-06-30 23:50:00</th>\n",
       "      <td>19744.8</td>\n",
       "      <td>19765.4</td>\n",
       "      <td>19649.4</td>\n",
       "      <td>19746.0</td>\n",
       "      <td>19161.773531</td>\n",
       "      <td>18973.50</td>\n",
       "      <td>19098.450</td>\n",
       "      <td>-193.676914</td>\n",
       "      <td>60.158165</td>\n",
       "      <td>98.218058</td>\n",
       "      <td>19842.3</td>\n",
       "    </tr>\n",
       "  </tbody>\n",
       "</table>\n",
       "<p>6450 rows × 11 columns</p>\n",
       "</div>"
      ],
      "text/plain": [
       "                        open     high      low    close         ema_9  \\\n",
       "unix                                                                    \n",
       "2021-08-07 08:30:00  43902.1  43902.1  43902.1  43902.1  41680.635908   \n",
       "2021-08-07 09:30:00  44158.7  44158.8  44158.7  44158.8  41943.752477   \n",
       "2021-08-07 10:25:00  43216.9  43216.9  43216.9  43216.9  42078.098180   \n",
       "2021-08-07 13:15:00  43860.9  44469.4  43860.9  44469.4  42329.048442   \n",
       "2021-08-07 13:20:00  43860.9  43861.0  42119.7  42119.7  42307.186860   \n",
       "...                      ...      ...      ...      ...           ...   \n",
       "2022-06-30 20:45:00  18750.0  18750.0  18750.0  18750.0  19208.110808   \n",
       "2022-06-30 20:50:00  18676.7  18676.7  18676.7  18676.7  19154.969727   \n",
       "2022-06-30 21:10:00  18814.6  18814.6  18814.6  18814.6  19120.932755   \n",
       "2022-06-30 22:45:00  18880.2  18880.2  18880.2  18880.2  19096.859479   \n",
       "2022-06-30 23:50:00  19744.8  19765.4  19649.4  19746.0  19161.773531   \n",
       "\n",
       "                        sma_5     sma_20         macd        rsi  stochastic  \\\n",
       "unix                                                                           \n",
       "2021-08-07 08:30:00  43395.86  40844.785   951.717121  71.691991  100.000000   \n",
       "2021-08-07 09:30:00  43627.46  41086.915  1003.471642  72.708835  100.000000   \n",
       "2021-08-07 10:25:00  43562.24  41258.505   964.780071  63.671258   78.894416   \n",
       "2021-08-07 13:15:00  43899.28  41472.580  1013.660314  69.160687  100.000000   \n",
       "2021-08-07 13:20:00  43573.38  41583.540   869.395577  52.985389   32.763900   \n",
       "...                       ...        ...          ...        ...         ...   \n",
       "2022-06-30 20:45:00  18884.24  19292.725  -292.440944  31.942950    0.000000   \n",
       "2022-06-30 20:50:00  18859.28  19223.150  -300.545148  30.613437    0.000000   \n",
       "2022-06-30 21:10:00  18855.58  19164.100  -292.469009  36.009512   29.440649   \n",
       "2022-06-30 22:45:00  18853.32  19108.530  -277.575521  38.461258   43.445773   \n",
       "2022-06-30 23:50:00  18973.50  19098.450  -193.676914  60.158165   98.218058   \n",
       "\n",
       "                           y  \n",
       "unix                          \n",
       "2021-08-07 08:30:00  44158.8  \n",
       "2021-08-07 09:30:00  43216.9  \n",
       "2021-08-07 10:25:00  44469.4  \n",
       "2021-08-07 13:15:00  42119.7  \n",
       "2021-08-07 13:20:00  43347.7  \n",
       "...                      ...  \n",
       "2022-06-30 20:45:00  18676.7  \n",
       "2022-06-30 20:50:00  18814.6  \n",
       "2022-06-30 21:10:00  18880.2  \n",
       "2022-06-30 22:45:00  19746.0  \n",
       "2022-06-30 23:50:00  19842.3  \n",
       "\n",
       "[6450 rows x 11 columns]"
      ]
     },
     "execution_count": 5,
     "metadata": {},
     "output_type": "execute_result"
    }
   ],
   "source": [
    "df"
   ]
  },
  {
   "cell_type": "markdown",
   "id": "00909501-86b1-4965-9b66-9fbb9e56894e",
   "metadata": {},
   "source": [
    "# Generate Train Test split"
   ]
  },
  {
   "cell_type": "code",
   "execution_count": 6,
   "id": "c73002f3-89e1-4c76-88fe-07b9cd769eef",
   "metadata": {},
   "outputs": [],
   "source": [
    "from sklearn.model_selection import train_test_split\n",
    "import numpy as np\n",
    "random_state = 42\n",
    "train_size = 0.8\n",
    "X = df[['close', 'ema_9', 'sma_5', 'sma_20', 'macd', 'rsi', 'stochastic']]\n",
    "y = df['y']\n",
    "\n",
    "X_train, X_test, y_train, y_test = train_test_split(X, y, train_size=train_size, random_state=random_state)\n",
    "X_train, X_val, y_train, y_val = train_test_split(X_train, y_train, train_size=train_size, random_state=random_state) "
   ]
  },
  {
   "cell_type": "markdown",
   "id": "73744a26-897e-4212-b2a8-3d431943fbf0",
   "metadata": {},
   "source": [
    "# Configure MLFlow endpoint"
   ]
  },
  {
   "cell_type": "code",
   "execution_count": 7,
   "id": "939ef63d-b399-4217-8732-3e002bcf21b8",
   "metadata": {},
   "outputs": [
    {
     "data": {
      "text/plain": [
       "<Experiment: artifact_location='s3://mlflow/1', creation_time=None, experiment_id='1', last_update_time=None, lifecycle_stage='active', name='bitcoin', tags={}>"
      ]
     },
     "execution_count": 7,
     "metadata": {},
     "output_type": "execute_result"
    }
   ],
   "source": [
    "import os\n",
    "import mlflow\n",
    "\n",
    "os.environ[\"AWS_ACCESS_KEY_ID\"] = \"mlflow\"\n",
    "os.environ[\"AWS_SECRET_ACCESS_KEY\"] = \"mlflow123\"\n",
    "os.environ[\"MLFLOW_S3_ENDPOINT_URL\"] = f\"http://mlflow-minio.mlflow.svc.cluster.local:9000/\"\n",
    "model_artifact_name = \"model\"\n",
    "\n",
    "mlflow.set_tracking_uri(\"http://mlflow.mlflow.svc.cluster.local\")\n",
    "mlflow.set_experiment(\"bitcoin\")"
   ]
  },
  {
   "cell_type": "markdown",
   "id": "9758e70c-8aca-4ab6-af8e-861f993ca237",
   "metadata": {},
   "source": [
    "# Fit and export the model"
   ]
  },
  {
   "cell_type": "code",
   "execution_count": 13,
   "id": "f87cc36b-5708-4d75-89fd-b22357a8a69b",
   "metadata": {},
   "outputs": [
    {
     "data": {
      "text/plain": [
       "array([45066.207, 45068.5  , 27388.447, ..., 19254.4  , 26270.879,\n",
       "       61485.477], dtype=float32)"
      ]
     },
     "execution_count": 13,
     "metadata": {},
     "output_type": "execute_result"
    }
   ],
   "source": [
    "y_hat"
   ]
  },
  {
   "cell_type": "markdown",
   "id": "79cb41a3-991e-4c68-8a8d-ecb0ba08da8e",
   "metadata": {
    "tags": []
   },
   "source": [
    "# Update the inferenseservice yaml"
   ]
  },
  {
   "cell_type": "code",
   "execution_count": null,
   "id": "a67ec718-d9a6-4b22-8477-cab9440368f0",
   "metadata": {},
   "outputs": [],
   "source": [
    "#https://github.com/ipython/ipython/issues/6701\n",
    "from IPython.core.magic import register_line_cell_magic\n",
    "\n",
    "@register_line_cell_magic\n",
    "def writetemplate(line, cell):\n",
    "    with open(line, 'w') as f:\n",
    "        f.write(cell.format(**globals()))"
   ]
  },
  {
   "cell_type": "code",
   "execution_count": null,
   "id": "527e828d-e802-4241-948c-d2f75052a8ed",
   "metadata": {},
   "outputs": [],
   "source": [
    "%%writetemplate deployment/isvc.yaml\n",
    "\n",
    "apiVersion: \"serving.kserve.io/v1beta1\"\n",
    "kind: \"InferenceService\"\n",
    "metadata:\n",
    "  name: \"bitcoin-forecast\"\n",
    "  namespace: default\n",
    "  labels:\n",
    "    networking.knative.dev/visibility: cluster-local\n",
    "spec:\n",
    "  predictor:\n",
    "    serviceAccountName: sa-s3\n",
    "    model:\n",
    "      modelFormat:\n",
    "        name: mlflow\n",
    "      protocolVersion: v2\n",
    "      storageUri: {storage_uri}"
   ]
  },
  {
   "cell_type": "code",
   "execution_count": null,
   "id": "2e286727-159a-4314-9a8c-fe9f8d33299e",
   "metadata": {},
   "outputs": [],
   "source": [
    "%%writetemplate ../feast-kserve-transform/deployment/isvc.yaml\n",
    "\n",
    "apiVersion: \"serving.kserve.io/v1beta1\"\n",
    "kind: \"InferenceService\"\n",
    "metadata:\n",
    "  name: \"bitcoin-forecast\"\n",
    "  namespace: default\n",
    "  labels:\n",
    "    networking.knative.dev/visibility: cluster-local\n",
    "spec:\n",
    "  predictor:\n",
    "    serviceAccountName: sa-s3\n",
    "    model:\n",
    "      modelFormat:\n",
    "        name: mlflow\n",
    "      protocolVersion: v2\n",
    "      storageUri: {storage_uri}\n",
    "  transformer:\n",
    "    containers:\n",
    "    - image: piepra/feast-transformer:1.2\n",
    "      name: btc-transfomer\n",
    "      command:\n",
    "      - \"python\"\n",
    "      - \"app/app.py\"\n",
    "      args:\n",
    "      - --feast_serving_url\n",
    "      - feast-feature-server.feast.svc.cluster.local:80\n",
    "      - --entity_ids\n",
    "      - \"BTC/USD\"\n",
    "      - --feature_refs\n",
    "      - \"crypto_stats:open\"\n",
    "      - \"crypto_stats:high\"\n",
    "      - \"crypto_stats:low\"\n",
    "      - \"crypto_stats:close\"\n",
    "      - --protocol\n",
    "      - v2"
   ]
  },
  {
   "cell_type": "code",
   "execution_count": null,
   "id": "6c27e7ab-7671-4807-8994-3189e05f15b6",
   "metadata": {},
   "outputs": [],
   "source": [
    "!curl -v -H \"Content-Type: application/json\" -d @./payload.json \\\n",
    " http://bitcoin-forecast.default.svc.cluster.local/v2/models/bitcoin-forecast-basic/infer"
   ]
  }
 ],
 "metadata": {
  "kernelspec": {
   "display_name": "Python 3 (ipykernel)",
   "language": "python",
   "name": "python3"
  },
  "language_info": {
   "codemirror_mode": {
    "name": "ipython",
    "version": 3
   },
   "file_extension": ".py",
   "mimetype": "text/x-python",
   "name": "python",
   "nbconvert_exporter": "python",
   "pygments_lexer": "ipython3",
   "version": "3.8.13"
  }
 },
 "nbformat": 4,
 "nbformat_minor": 5
}
