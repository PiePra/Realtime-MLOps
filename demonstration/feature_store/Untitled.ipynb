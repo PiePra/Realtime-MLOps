{
 "cells": [
  {
   "cell_type": "code",
   "execution_count": 1,
   "id": "2a8161a5-9506-47fa-af11-7f91da47d4d3",
   "metadata": {},
   "outputs": [
    {
     "data": {
      "text/plain": [
       "{'muffin': 'lolz', 'foo': 'kitty'}"
      ]
     },
     "execution_count": 1,
     "metadata": {},
     "output_type": "execute_result"
    }
   ],
   "source": [
    "import ast\n",
    "ast.literal_eval(\"{'muffin' : 'lolz', 'foo' : 'kitty'}\")"
   ]
  },
  {
   "cell_type": "code",
   "execution_count": 2,
   "id": "db83dc5d-74d0-41e3-a850-123a0fec8b77",
   "metadata": {},
   "outputs": [
    {
     "data": {
      "text/plain": [
       "{'muffin': 'lolz', 'foo': 'kitty'}"
      ]
     },
     "execution_count": 2,
     "metadata": {},
     "output_type": "execute_result"
    }
   ],
   "source": [
    "ast.literal_eval('{\"muffin\" : \"lolz\", \"foo\" : \"kitty\"}')"
   ]
  },
  {
   "cell_type": "code",
   "execution_count": 4,
   "id": "efb83881-43ef-4911-821a-eb49c9efce4b",
   "metadata": {},
   "outputs": [],
   "source": [
    "test = ast.literal_eval('{\"price\":1327.03,\"timestamp\":1.664467184172456E9,\"symbol\":\"ETH/USD\"}')"
   ]
  },
  {
   "cell_type": "code",
   "execution_count": 5,
   "id": "cb4942de-e4a9-4f5b-abe2-96b881dd3651",
   "metadata": {},
   "outputs": [
    {
     "data": {
      "text/plain": [
       "dict"
      ]
     },
     "execution_count": 5,
     "metadata": {},
     "output_type": "execute_result"
    }
   ],
   "source": [
    "type(test)"
   ]
  },
  {
   "cell_type": "code",
   "execution_count": 6,
   "id": "510feab9-e81c-4d81-a498-0d79c2b65378",
   "metadata": {},
   "outputs": [
    {
     "data": {
      "text/plain": [
       "{'symbol': 'ETH/USD',\n",
       " 'low': 1327.49,\n",
       " 'high': 1329.92,\n",
       " 'open': 1329.22,\n",
       " 'close': 1327.49,\n",
       " 'timestamp': 1664466488.691733,\n",
       " 'timestamp_created': 1664466454.989674,\n",
       " 'type': 'ground_truth'}"
      ]
     },
     "execution_count": 6,
     "metadata": {},
     "output_type": "execute_result"
    }
   ],
   "source": [
    "ast.literal_eval('{\"symbol\":\"ETH/USD\",\"low\":1327.49,\"high\":1329.92,\"open\":1329.22,\"close\":1327.49,\"timestamp\":1.664466488691733E9,\"timestamp_created\":1.664466454989674E9,\"type\":\"ground_truth\"}')"
   ]
  },
  {
   "cell_type": "code",
   "execution_count": 7,
   "id": "45fa6547-3333-423d-a7d1-c767b814ccd7",
   "metadata": {},
   "outputs": [
    {
     "data": {
      "text/plain": [
       "{'symbol': 'BTC/USD', 'type': 'predict', 'timestamp': 1664468634.857705}"
      ]
     },
     "execution_count": 7,
     "metadata": {},
     "output_type": "execute_result"
    }
   ],
   "source": [
    "ast.literal_eval('{\"symbol\":\"BTC/USD\",\"type\":\"predict\",\"timestamp\":1.664468634857705E9}')"
   ]
  },
  {
   "cell_type": "code",
   "execution_count": 10,
   "id": "2351f42b-ca44-490f-8e54-eee940b6e8b4",
   "metadata": {},
   "outputs": [
    {
     "data": {
      "text/plain": [
       "{'model_name': 'bitcoin-forecast',\n",
       " 'model_version': None,\n",
       " 'id': '129ed9b1-6dc6-4f74-9c88-4503e8b03298',\n",
       " 'parameters': None,\n",
       " 'outputs': [{'name': 'predict',\n",
       "   'shape': [1, 1],\n",
       "   'datatype': 'FP32',\n",
       "   'parameters': None,\n",
       "   'data': [19160.21875]}],\n",
       " 'symbol': 'BTC/USD',\n",
       " 'type': 'response'}"
      ]
     },
     "execution_count": 10,
     "metadata": {},
     "output_type": "execute_result"
    }
   ],
   "source": [
    "ast.literal_eval('{\"model_name\": \"bitcoin-forecast\", \"model_version\": None, \"id\": \"129ed9b1-6dc6-4f74-9c88-4503e8b03298\", \"parameters\": None, \"outputs\": [{\"name\": \"predict\", \"shape\": [1, 1], \"datatype\": \"FP32\", \"parameters\": None, \"data\": [19160.21875]}], \"symbol\": \"BTC/USD\", \"type\": \"response\"}')"
   ]
  }
 ],
 "metadata": {
  "kernelspec": {
   "display_name": "Python 3 (ipykernel)",
   "language": "python",
   "name": "python3"
  },
  "language_info": {
   "codemirror_mode": {
    "name": "ipython",
    "version": 3
   },
   "file_extension": ".py",
   "mimetype": "text/x-python",
   "name": "python",
   "nbconvert_exporter": "python",
   "pygments_lexer": "ipython3",
   "version": "3.10.4"
  }
 },
 "nbformat": 4,
 "nbformat_minor": 5
}
