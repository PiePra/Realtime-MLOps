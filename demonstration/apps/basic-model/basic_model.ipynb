{
 "cells": [
  {
   "cell_type": "code",
   "execution_count": 1,
   "id": "f117d876-56f1-4a6f-a809-a7603d115458",
   "metadata": {},
   "outputs": [],
   "source": [
    "#!pip install boto3 pandas tensorflow mlflow"
   ]
  },
  {
   "cell_type": "markdown",
   "id": "926f74b6-6a26-4af5-b759-1d30dbeb4521",
   "metadata": {},
   "source": [
    "# Fit a basic model and export to mlflow"
   ]
  },
  {
   "cell_type": "code",
   "execution_count": 2,
   "id": "1300debf-a61e-415e-be02-20694a32acbc",
   "metadata": {},
   "outputs": [],
   "source": [
    "import pandas as pd\n",
    "df = pd.read_csv('BTC-2021min.csv')\n",
    "df['unix'] = pd.to_datetime(df['unix'], unit='s')\n",
    "df = df.set_index(pd.DatetimeIndex(df['unix']))\n",
    "df = df.drop(df[['open', 'high', 'low', 'symbol', 'Volume BTC', 'Volume USD', 'date', 'unix']], axis=1)\n",
    "df.sort_values(by='unix', inplace=True)"
   ]
  },
  {
   "cell_type": "code",
   "execution_count": 3,
   "id": "4dd9ba2e-4800-4f52-ae39-e1d7cbdf78e2",
   "metadata": {},
   "outputs": [
    {
     "data": {
      "text/plain": [
       "<AxesSubplot:xlabel='unix'>"
      ]
     },
     "execution_count": 3,
     "metadata": {},
     "output_type": "execute_result"
    },
    {
     "data": {
      "image/png": "[encoded data removed]",
      "text/plain": [
       "<Figure size 432x288 with 1 Axes>"
      ]
     },
     "metadata": {
      "needs_background": "light"
     },
     "output_type": "display_data"
    }
   ],
   "source": [
    "df.plot()"
   ]
  },
  {
   "cell_type": "code",
   "execution_count": 4,
   "id": "eb15bf01-26b8-41bc-9998-504928a670f2",
   "metadata": {},
   "outputs": [
    {
     "data": {
      "text/html": [
       "<div>\n",
       "<style scoped>\n",
       "    .dataframe tbody tr th:only-of-type {\n",
       "        vertical-align: middle;\n",
       "    }\n",
       "\n",
       "    .dataframe tbody tr th {\n",
       "        vertical-align: top;\n",
       "    }\n",
       "\n",
       "    .dataframe thead th {\n",
       "        text-align: right;\n",
       "    }\n",
       "</style>\n",
       "<table border=\"1\" class=\"dataframe\">\n",
       "  <thead>\n",
       "    <tr style=\"text-align: right;\">\n",
       "      <th></th>\n",
       "      <th>close</th>\n",
       "    </tr>\n",
       "  </thead>\n",
       "  <tbody>\n",
       "    <tr>\n",
       "      <th>count</th>\n",
       "      <td>610782.000000</td>\n",
       "    </tr>\n",
       "    <tr>\n",
       "      <th>mean</th>\n",
       "      <td>46482.567211</td>\n",
       "    </tr>\n",
       "    <tr>\n",
       "      <th>std</th>\n",
       "      <td>9454.107853</td>\n",
       "    </tr>\n",
       "    <tr>\n",
       "      <th>min</th>\n",
       "      <td>28073.030000</td>\n",
       "    </tr>\n",
       "    <tr>\n",
       "      <th>25%</th>\n",
       "      <td>38129.137500</td>\n",
       "    </tr>\n",
       "    <tr>\n",
       "      <th>50%</th>\n",
       "      <td>46667.295000</td>\n",
       "    </tr>\n",
       "    <tr>\n",
       "      <th>75%</th>\n",
       "      <td>54907.412500</td>\n",
       "    </tr>\n",
       "    <tr>\n",
       "      <th>max</th>\n",
       "      <td>69000.000000</td>\n",
       "    </tr>\n",
       "  </tbody>\n",
       "</table>\n",
       "</div>"
      ],
      "text/plain": [
       "               close\n",
       "count  610782.000000\n",
       "mean    46482.567211\n",
       "std      9454.107853\n",
       "min     28073.030000\n",
       "25%     38129.137500\n",
       "50%     46667.295000\n",
       "75%     54907.412500\n",
       "max     69000.000000"
      ]
     },
     "execution_count": 4,
     "metadata": {},
     "output_type": "execute_result"
    }
   ],
   "source": [
    "df.describe()"
   ]
  },
  {
   "cell_type": "markdown",
   "id": "bb2d0a80-f627-4ad0-a09b-27fb89cf0bda",
   "metadata": {},
   "source": [
    "# Do some feature engineering"
   ]
  },
  {
   "cell_type": "code",
   "execution_count": 5,
   "id": "5710cfa5-9be3-438b-b5d8-72a5927cee02",
   "metadata": {},
   "outputs": [],
   "source": [
    "df['y'] = df['close'].shift(-1)\n",
    "df['7ma'] = df['close'].rolling(window=7).mean()\n",
    "df['50ma'] = df['close'].rolling(window=50).mean()\n",
    "df['short_trend'] = df['7ma'].diff(7)\n",
    "df['long_trend'] = df['50ma'].diff(50)\n",
    "df['weekday'] = df.index.weekday\n",
    "df = df.dropna()\n",
    "df = df[:-1]"
   ]
  },
  {
   "cell_type": "code",
   "execution_count": 6,
   "id": "bf55e83c-45d7-4864-a41c-47f9ba368fdf",
   "metadata": {},
   "outputs": [
    {
     "data": {
      "text/html": [
       "<div>\n",
       "<style scoped>\n",
       "    .dataframe tbody tr th:only-of-type {\n",
       "        vertical-align: middle;\n",
       "    }\n",
       "\n",
       "    .dataframe tbody tr th {\n",
       "        vertical-align: top;\n",
       "    }\n",
       "\n",
       "    .dataframe thead th {\n",
       "        text-align: right;\n",
       "    }\n",
       "</style>\n",
       "<table border=\"1\" class=\"dataframe\">\n",
       "  <thead>\n",
       "    <tr style=\"text-align: right;\">\n",
       "      <th></th>\n",
       "      <th>close</th>\n",
       "      <th>y</th>\n",
       "      <th>7ma</th>\n",
       "      <th>50ma</th>\n",
       "      <th>short_trend</th>\n",
       "      <th>long_trend</th>\n",
       "      <th>weekday</th>\n",
       "    </tr>\n",
       "    <tr>\n",
       "      <th>unix</th>\n",
       "      <th></th>\n",
       "      <th></th>\n",
       "      <th></th>\n",
       "      <th></th>\n",
       "      <th></th>\n",
       "      <th></th>\n",
       "      <th></th>\n",
       "    </tr>\n",
       "  </thead>\n",
       "  <tbody>\n",
       "    <tr>\n",
       "      <th>2021-01-01 01:40:00</th>\n",
       "      <td>29451.85</td>\n",
       "      <td>29443.61</td>\n",
       "      <td>29460.647143</td>\n",
       "      <td>29274.4150</td>\n",
       "      <td>37.428571</td>\n",
       "      <td>322.9620</td>\n",
       "      <td>4</td>\n",
       "    </tr>\n",
       "    <tr>\n",
       "      <th>2021-01-01 01:41:00</th>\n",
       "      <td>29443.61</td>\n",
       "      <td>29438.16</td>\n",
       "      <td>29461.764286</td>\n",
       "      <td>29283.0154</td>\n",
       "      <td>28.725714</td>\n",
       "      <td>332.9600</td>\n",
       "      <td>4</td>\n",
       "    </tr>\n",
       "    <tr>\n",
       "      <th>2021-01-01 01:42:00</th>\n",
       "      <td>29438.16</td>\n",
       "      <td>29442.38</td>\n",
       "      <td>29466.571429</td>\n",
       "      <td>29290.7984</td>\n",
       "      <td>33.262857</td>\n",
       "      <td>340.4806</td>\n",
       "      <td>4</td>\n",
       "    </tr>\n",
       "    <tr>\n",
       "      <th>2021-01-01 01:43:00</th>\n",
       "      <td>29442.38</td>\n",
       "      <td>29403.39</td>\n",
       "      <td>29463.730000</td>\n",
       "      <td>29298.6540</td>\n",
       "      <td>28.068571</td>\n",
       "      <td>348.3068</td>\n",
       "      <td>4</td>\n",
       "    </tr>\n",
       "    <tr>\n",
       "      <th>2021-01-01 01:44:00</th>\n",
       "      <td>29403.39</td>\n",
       "      <td>29416.32</td>\n",
       "      <td>29451.448571</td>\n",
       "      <td>29306.0570</td>\n",
       "      <td>16.592857</td>\n",
       "      <td>355.9488</td>\n",
       "      <td>4</td>\n",
       "    </tr>\n",
       "    <tr>\n",
       "      <th>...</th>\n",
       "      <td>...</td>\n",
       "      <td>...</td>\n",
       "      <td>...</td>\n",
       "      <td>...</td>\n",
       "      <td>...</td>\n",
       "      <td>...</td>\n",
       "      <td>...</td>\n",
       "    </tr>\n",
       "    <tr>\n",
       "      <th>2022-03-01 03:36:00</th>\n",
       "      <td>43090.55</td>\n",
       "      <td>43088.92</td>\n",
       "      <td>43097.060000</td>\n",
       "      <td>43073.1788</td>\n",
       "      <td>83.454286</td>\n",
       "      <td>-81.5870</td>\n",
       "      <td>1</td>\n",
       "    </tr>\n",
       "    <tr>\n",
       "      <th>2022-03-01 03:37:00</th>\n",
       "      <td>43088.92</td>\n",
       "      <td>43049.46</td>\n",
       "      <td>43096.402857</td>\n",
       "      <td>43071.9328</td>\n",
       "      <td>71.141429</td>\n",
       "      <td>-80.3784</td>\n",
       "      <td>1</td>\n",
       "    </tr>\n",
       "    <tr>\n",
       "      <th>2022-03-01 03:38:00</th>\n",
       "      <td>43049.46</td>\n",
       "      <td>42999.44</td>\n",
       "      <td>43088.087143</td>\n",
       "      <td>43070.1776</td>\n",
       "      <td>51.805714</td>\n",
       "      <td>-79.7030</td>\n",
       "      <td>1</td>\n",
       "    </tr>\n",
       "    <tr>\n",
       "      <th>2022-03-01 03:39:00</th>\n",
       "      <td>42999.44</td>\n",
       "      <td>43016.03</td>\n",
       "      <td>43072.625714</td>\n",
       "      <td>43068.0104</td>\n",
       "      <td>21.291429</td>\n",
       "      <td>-78.0990</td>\n",
       "      <td>1</td>\n",
       "    </tr>\n",
       "    <tr>\n",
       "      <th>2022-03-01 03:40:00</th>\n",
       "      <td>43016.03</td>\n",
       "      <td>43046.58</td>\n",
       "      <td>43060.855714</td>\n",
       "      <td>43065.8768</td>\n",
       "      <td>-10.138571</td>\n",
       "      <td>-76.7516</td>\n",
       "      <td>1</td>\n",
       "    </tr>\n",
       "  </tbody>\n",
       "</table>\n",
       "<p>610681 rows × 7 columns</p>\n",
       "</div>"
      ],
      "text/plain": [
       "                        close         y           7ma        50ma  \\\n",
       "unix                                                                \n",
       "2021-01-01 01:40:00  29451.85  29443.61  29460.647143  29274.4150   \n",
       "2021-01-01 01:41:00  29443.61  29438.16  29461.764286  29283.0154   \n",
       "2021-01-01 01:42:00  29438.16  29442.38  29466.571429  29290.7984   \n",
       "2021-01-01 01:43:00  29442.38  29403.39  29463.730000  29298.6540   \n",
       "2021-01-01 01:44:00  29403.39  29416.32  29451.448571  29306.0570   \n",
       "...                       ...       ...           ...         ...   \n",
       "2022-03-01 03:36:00  43090.55  43088.92  43097.060000  43073.1788   \n",
       "2022-03-01 03:37:00  43088.92  43049.46  43096.402857  43071.9328   \n",
       "2022-03-01 03:38:00  43049.46  42999.44  43088.087143  43070.1776   \n",
       "2022-03-01 03:39:00  42999.44  43016.03  43072.625714  43068.0104   \n",
       "2022-03-01 03:40:00  43016.03  43046.58  43060.855714  43065.8768   \n",
       "\n",
       "                     short_trend  long_trend  weekday  \n",
       "unix                                                   \n",
       "2021-01-01 01:40:00    37.428571    322.9620        4  \n",
       "2021-01-01 01:41:00    28.725714    332.9600        4  \n",
       "2021-01-01 01:42:00    33.262857    340.4806        4  \n",
       "2021-01-01 01:43:00    28.068571    348.3068        4  \n",
       "2021-01-01 01:44:00    16.592857    355.9488        4  \n",
       "...                          ...         ...      ...  \n",
       "2022-03-01 03:36:00    83.454286    -81.5870        1  \n",
       "2022-03-01 03:37:00    71.141429    -80.3784        1  \n",
       "2022-03-01 03:38:00    51.805714    -79.7030        1  \n",
       "2022-03-01 03:39:00    21.291429    -78.0990        1  \n",
       "2022-03-01 03:40:00   -10.138571    -76.7516        1  \n",
       "\n",
       "[610681 rows x 7 columns]"
      ]
     },
     "execution_count": 6,
     "metadata": {},
     "output_type": "execute_result"
    }
   ],
   "source": [
    "df"
   ]
  },
  {
   "cell_type": "markdown",
   "id": "00909501-86b1-4965-9b66-9fbb9e56894e",
   "metadata": {},
   "source": [
    "# Generate Train Test split"
   ]
  },
  {
   "cell_type": "code",
   "execution_count": 7,
   "id": "c73002f3-89e1-4c76-88fe-07b9cd769eef",
   "metadata": {},
   "outputs": [],
   "source": [
    "from sklearn.model_selection import train_test_split\n",
    "random_state = 42\n",
    "train_size = 0.8\n",
    "X = df[['close', '7ma', '50ma', 'short_trend', 'long_trend', 'weekday']]\n",
    "y = df['y']\n",
    "\n",
    "X_train, X_test, y_train, y_test = train_test_split(X, y, train_size=train_size, random_state=random_state)\n",
    "#X_train, X_val, y_train, y_val = train_test_split(X_train, y_train, train_size=train_size, random_state=random_state) "
   ]
  },
  {
   "cell_type": "markdown",
   "id": "73744a26-897e-4212-b2a8-3d431943fbf0",
   "metadata": {},
   "source": [
    "# Configure MLFlow endpoint"
   ]
  },
  {
   "cell_type": "code",
   "execution_count": 8,
   "id": "939ef63d-b399-4217-8732-3e002bcf21b8",
   "metadata": {},
   "outputs": [
    {
     "data": {
      "text/plain": [
       "<Experiment: artifact_location='s3://mlflow/1', experiment_id='1', lifecycle_stage='active', name='bitcoin', tags={}>"
      ]
     },
     "execution_count": 8,
     "metadata": {},
     "output_type": "execute_result"
    }
   ],
   "source": [
    "import os\n",
    "import mlflow\n",
    "\n",
    "os.environ[\"AWS_ACCESS_KEY_ID\"] = \"mlflow\"\n",
    "os.environ[\"AWS_SECRET_ACCESS_KEY\"] = \"mlflow123\"\n",
    "os.environ[\"MLFLOW_S3_ENDPOINT_URL\"] = f\"http://mlflow-minio.mlflow.svc.cluster.local:9000/\"\n",
    "model_artifact_name = \"model\"\n",
    "\n",
    "mlflow.set_tracking_uri(\"http://mlflow.mlflow.svc.cluster.local\")\n",
    "mlflow.set_experiment(\"bitcoin\")"
   ]
  },
  {
   "cell_type": "markdown",
   "id": "9758e70c-8aca-4ab6-af8e-861f993ca237",
   "metadata": {},
   "source": [
    "# Fit and export the model"
   ]
  },
  {
   "cell_type": "code",
   "execution_count": 9,
   "id": "7ff3be1e-68d8-4af8-ade3-e77a63a7cb59",
   "metadata": {},
   "outputs": [
    {
     "name": "stderr",
     "output_type": "stream",
     "text": [
      "2022-09-17 18:15:02.488220: I tensorflow/core/platform/cpu_feature_guard.cc:193] This TensorFlow binary is optimized with oneAPI Deep Neural Network Library (oneDNN) to use the following CPU instructions in performance-critical operations:  AVX2 AVX512F AVX512_VNNI FMA\n",
      "To enable them in other operations, rebuild TensorFlow with the appropriate compiler flags.\n",
      "2022-09-17 18:15:02.859284: I tensorflow/core/util/util.cc:169] oneDNN custom operations are on. You may see slightly different numerical results due to floating-point round-off errors from different computation orders. To turn them off, set the environment variable `TF_ENABLE_ONEDNN_OPTS=0`.\n",
      "2022-09-17 18:15:02.872362: W tensorflow/stream_executor/platform/default/dso_loader.cc:64] Could not load dynamic library 'libcudart.so.11.0'; dlerror: libcudart.so.11.0: cannot open shared object file: No such file or directory\n",
      "2022-09-17 18:15:02.872391: I tensorflow/stream_executor/cuda/cudart_stub.cc:29] Ignore above cudart dlerror if you do not have a GPU set up on your machine.\n",
      "2022-09-17 18:15:02.971069: E tensorflow/stream_executor/cuda/cuda_blas.cc:2981] Unable to register cuBLAS factory: Attempting to register factory for plugin cuBLAS when one has already been registered\n",
      "2022-09-17 18:15:03.827212: W tensorflow/stream_executor/platform/default/dso_loader.cc:64] Could not load dynamic library 'libnvinfer.so.7'; dlerror: libnvinfer.so.7: cannot open shared object file: No such file or directory\n",
      "2022-09-17 18:15:03.827335: W tensorflow/stream_executor/platform/default/dso_loader.cc:64] Could not load dynamic library 'libnvinfer_plugin.so.7'; dlerror: libnvinfer_plugin.so.7: cannot open shared object file: No such file or directory\n",
      "2022-09-17 18:15:03.827348: W tensorflow/compiler/tf2tensorrt/utils/py_utils.cc:38] TF-TRT Warning: Cannot dlopen some TensorRT libraries. If you would like to use Nvidia GPU with TensorRT, please make sure the missing libraries mentioned above are installed properly.\n",
      "2022/09/17 18:15:04 WARNING mlflow.utils.autologging_utils: You are using an unsupported version of tensorflow. If you encounter errors during autologging, try upgrading / downgrading tensorflow to a supported version, or try upgrading MLflow.\n",
      "2022-09-17 18:15:04.819341: W tensorflow/stream_executor/platform/default/dso_loader.cc:64] Could not load dynamic library 'libcuda.so.1'; dlerror: libcuda.so.1: cannot open shared object file: No such file or directory\n",
      "2022-09-17 18:15:04.819391: W tensorflow/stream_executor/cuda/cuda_driver.cc:263] failed call to cuInit: UNKNOWN ERROR (303)\n",
      "2022-09-17 18:15:04.819416: I tensorflow/stream_executor/cuda/cuda_diagnostics.cc:156] kernel driver does not appear to be running on this host (pierre-HP-EliteBook-850-G8-Notebook-PC): /proc/driver/nvidia/version does not exist\n",
      "2022-09-17 18:15:04.819748: I tensorflow/core/platform/cpu_feature_guard.cc:193] This TensorFlow binary is optimized with oneAPI Deep Neural Network Library (oneDNN) to use the following CPU instructions in performance-critical operations:  AVX2 AVX512F AVX512_VNNI FMA\n",
      "To enable them in other operations, rebuild TensorFlow with the appropriate compiler flags.\n"
     ]
    },
    {
     "name": "stdout",
     "output_type": "stream",
     "text": [
      "Epoch 1/8\n",
      "   1/3909 [..............................] - ETA: 36:33 - loss: 480778528.0000WARNING:tensorflow:Callback method `on_train_batch_end` is slow compared to the batch time (batch time: 0.0022s vs `on_train_batch_end` time: 0.0027s). Check your callbacks.\n"
     ]
    },
    {
     "name": "stderr",
     "output_type": "stream",
     "text": [
      "WARNING:tensorflow:Callback method `on_train_batch_end` is slow compared to the batch time (batch time: 0.0022s vs `on_train_batch_end` time: 0.0027s). Check your callbacks.\n"
     ]
    },
    {
     "name": "stdout",
     "output_type": "stream",
     "text": [
      "3909/3909 [==============================] - 10s 2ms/step - loss: 496458.0625 - val_loss: 4638.5576\n",
      "Epoch 2/8\n",
      "3909/3909 [==============================] - 9s 2ms/step - loss: 10470.7598 - val_loss: 10217.9277\n",
      "Epoch 3/8\n",
      "3909/3909 [==============================] - 10s 3ms/step - loss: 12249.5381 - val_loss: 4933.0508\n",
      "Epoch 4/8\n",
      "3909/3909 [==============================] - 12s 3ms/step - loss: 10617.3164 - val_loss: 3708.5649\n",
      "Epoch 5/8\n",
      "3909/3909 [==============================] - 10s 2ms/step - loss: 10094.7812 - val_loss: 10528.3643\n",
      "Epoch 6/8\n",
      "3909/3909 [==============================] - 13s 3ms/step - loss: 9168.2090 - val_loss: 3674.7446\n",
      "Epoch 7/8\n",
      "3909/3909 [==============================] - 9s 2ms/step - loss: 8771.3896 - val_loss: 12103.9658\n",
      "Epoch 8/8\n",
      "3909/3909 [==============================] - 9s 2ms/step - loss: 8306.2197 - val_loss: 3604.7859\n",
      "INFO:tensorflow:Assets written to: /tmp/tmp1qwm9rh8/model/data/model/assets\n"
     ]
    },
    {
     "name": "stderr",
     "output_type": "stream",
     "text": [
      "INFO:tensorflow:Assets written to: /tmp/tmp1qwm9rh8/model/data/model/assets\n",
      "2022/09/17 18:16:33 WARNING mlflow.utils.requirements_utils: Found lz4 version (3.1.3+dfsg) contains a local version label (+dfsg). MLflow logged a pip requirement for this package as 'lz4==3.1.3' without the local version label to make it installable from PyPI. To specify pip requirements containing local version labels, please use `conda_env` or `pip_requirements`.\n"
     ]
    },
    {
     "name": "stdout",
     "output_type": "stream",
     "text": [
      "3817/3817 [==============================] - 6s 1ms/step\n",
      "INFO:tensorflow:Assets written to: /tmp/tmp8l6umzz1/model/data/model/assets\n"
     ]
    },
    {
     "name": "stderr",
     "output_type": "stream",
     "text": [
      "INFO:tensorflow:Assets written to: /tmp/tmp8l6umzz1/model/data/model/assets\n",
      "2022/09/17 18:16:48 WARNING mlflow.utils.requirements_utils: Found lz4 version (3.1.3+dfsg) contains a local version label (+dfsg). MLflow logged a pip requirement for this package as 'lz4==3.1.3' without the local version label to make it installable from PyPI. To specify pip requirements containing local version labels, please use `conda_env` or `pip_requirements`.\n",
      "Registered model 'BitcoinForecast' already exists. Creating a new version of this model...\n",
      "2022/09/17 18:16:48 INFO mlflow.tracking._model_registry.client: Waiting up to 300 seconds for model version to finish creation.                     Model name: BitcoinForecast, version 6\n",
      "Created version '6' of model 'BitcoinForecast'.\n"
     ]
    }
   ],
   "source": [
    "import logging\n",
    "import mlflow\n",
    "import tensorflow as tf\n",
    "from tensorflow.keras.layers import Dense\n",
    "from tensorflow.keras.models import Sequential\n",
    "import numpy as np\n",
    "from sklearn.metrics import mean_squared_error, mean_absolute_error, r2_score\n",
    "\n",
    "np.random.seed(random_state)\n",
    "tf.random.set_seed(random_state) \n",
    "\n",
    "logging.basicConfig(level=logging.WARN)\n",
    "logger = logging.getLogger(__name__)\n",
    "\n",
    "def eval_metrics(actual, pred):\n",
    "    rmse = np.sqrt(mean_squared_error(actual, pred))\n",
    "    mae = mean_absolute_error(actual, pred)\n",
    "    r2 = r2_score(actual, pred)\n",
    "    return rmse, mae, r2\n",
    "\n",
    "if __name__ == \"__main__\":\n",
    "    with mlflow.start_run():\n",
    "        mlflow.tensorflow.autolog()\n",
    "        \n",
    "        model = Sequential()\n",
    "        model.add(Dense(32, input_shape=(X_train.shape[-1],), activation=\"relu\", name=\"hidden_layer\"))\n",
    "        model.add(Dense(32))\n",
    "        model.add(Dense(1))\n",
    "        model.compile(loss=\"mse\", optimizer=\"adam\")\n",
    "        \n",
    "        model.fit(X_train, y_train, epochs=8, batch_size=100, validation_split=.2)\n",
    "               \n",
    "        # Evaluate the best model with testing data.\n",
    "        y_hat = model.predict(X_test)\n",
    "        (rmse, mae, r2) = eval_metrics(y_test, y_hat)\n",
    "        mlflow.log_param(\"framework\", \"tensorflow\")\n",
    "        mlflow.log_param(\"version\", tf.__version__)\n",
    "        mlflow.log_param(\"random_state\", random_state)\n",
    "        mlflow.log_metric(\"rmse\", rmse)\n",
    "        mlflow.log_metric(\"r2\", r2)\n",
    "        mlflow.log_metric(\"mae\", mae)\n",
    "        lr = res = {\"lr_\" + str(key): val for key, val in model.optimizer.get_config().items()}\n",
    "        mlflow.log_params(lr)\n",
    "        info = mlflow.keras.log_model(model, model_artifact_name, registered_model_name=\"BitcoinForecast\")\n",
    "        \n",
    "        uri = mlflow.get_artifact_uri()"
   ]
  },
  {
   "cell_type": "markdown",
   "id": "79cb41a3-991e-4c68-8a8d-ecb0ba08da8e",
   "metadata": {},
   "source": [
    "# Update the inferenseservice yaml"
   ]
  },
  {
   "cell_type": "code",
   "execution_count": 10,
   "id": "d5be817e-9663-4808-974a-78817701309d",
   "metadata": {},
   "outputs": [],
   "source": [
    "storage_uri = f\"{uri}/{model_artifact_name}\""
   ]
  },
  {
   "cell_type": "code",
   "execution_count": 11,
   "id": "a67ec718-d9a6-4b22-8477-cab9440368f0",
   "metadata": {},
   "outputs": [],
   "source": [
    "#https://github.com/ipython/ipython/issues/6701\n",
    "from IPython.core.magic import register_line_cell_magic\n",
    "\n",
    "@register_line_cell_magic\n",
    "def writetemplate(line, cell):\n",
    "    with open(line, 'w') as f:\n",
    "        f.write(cell.format(**globals()))"
   ]
  },
  {
   "cell_type": "code",
   "execution_count": 12,
   "id": "527e828d-e802-4241-948c-d2f75052a8ed",
   "metadata": {},
   "outputs": [],
   "source": [
    "%%writetemplate ../../deployments/basic-model/isvc.yaml\n",
    "\n",
    "apiVersion: \"serving.kserve.io/v1beta1\"\n",
    "kind: \"InferenceService\"\n",
    "metadata:\n",
    "  name: \"bitcoin-forecast\"\n",
    "  namespace: default\n",
    "  labels:\n",
    "    networking.knative.dev/visibility: cluster-local\n",
    "spec:\n",
    "  predictor:\n",
    "    serviceAccountName: sa-s3\n",
    "    model:\n",
    "      modelFormat:\n",
    "        name: mlflow\n",
    "      protocolVersion: v2\n",
    "      storageUri: {storage_uri}"
   ]
  }
 ],
 "metadata": {
  "kernelspec": {
   "display_name": "Python 3 (ipykernel)",
   "language": "python",
   "name": "python3"
  },
  "language_info": {
   "codemirror_mode": {
    "name": "ipython",
    "version": 3
   },
   "file_extension": ".py",
   "mimetype": "text/x-python",
   "name": "python",
   "nbconvert_exporter": "python",
   "pygments_lexer": "ipython3",
   "version": "3.10.4"
  }
 },
 "nbformat": 4,
 "nbformat_minor": 5
}
