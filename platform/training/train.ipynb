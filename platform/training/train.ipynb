{
 "cells": [
  {
   "cell_type": "markdown",
   "id": "3d91ec1e-2a16-4a6e-8ed6-587bc7130d82",
   "metadata": {},
   "source": [
    "# Get Last Model"
   ]
  },
  {
   "cell_type": "markdown",
   "id": "f453d8dd-be0a-42bc-a562-b578ef91198c",
   "metadata": {},
   "source": [
    "## Init MLFlow"
   ]
  },
  {
   "cell_type": "code",
   "execution_count": 138,
   "id": "1b2afb53-e976-411c-9a60-8691e3677416",
   "metadata": {},
   "outputs": [
    {
     "data": {
      "text/plain": [
       "<Experiment: artifact_location='s3://mlflow/1', creation_time=None, experiment_id='1', last_update_time=None, lifecycle_stage='active', name='bitcoin', tags={}>"
      ]
     },
     "execution_count": 138,
     "metadata": {},
     "output_type": "execute_result"
    }
   ],
   "source": [
    "import mlflow.pyfunc\n",
    "import mlflow.keras\n",
    "import os\n",
    "os.environ[\"AWS_ACCESS_KEY_ID\"] = \"mlflow\"\n",
    "os.environ[\"AWS_SECRET_ACCESS_KEY\"] = \"mlflow123\"\n",
    "os.environ[\"MLFLOW_S3_ENDPOINT_URL\"] = f\"http://mlflow-minio.mlflow.svc.cluster.local:9000/\"\n",
    "mlflow.set_tracking_uri(\"http://mlflow.mlflow.svc.cluster.local\")\n",
    "mlflow.set_experiment(\"bitcoin\")"
   ]
  },
  {
   "cell_type": "markdown",
   "id": "0c8c5ccd-a2ed-4dca-b3c9-a2535c87d1ac",
   "metadata": {},
   "source": [
    "## Get Model, MLFlow Run, Params"
   ]
  },
  {
   "cell_type": "code",
   "execution_count": 139,
   "id": "56b74a06-c0db-4ae1-94e0-241ba7d2a55e",
   "metadata": {},
   "outputs": [],
   "source": [
    "from mlflow import MlflowClient\n",
    "\n",
    "client = MlflowClient()\n",
    "models = client.search_registered_models(filter_string=\"name = 'BitcoinForecast'\")\n",
    "model = models[-1]\n",
    "version = model.latest_versions[-1]\n",
    "\n",
    "run = client.get_run(version.run_id)\n",
    "params = run.data.params"
   ]
  },
  {
   "cell_type": "markdown",
   "id": "823e0f94-c283-406a-b74c-54baf4539eb0",
   "metadata": {},
   "source": [
    "# Get offline features"
   ]
  },
  {
   "cell_type": "code",
   "execution_count": 162,
   "id": "e163df4f-343d-426c-8030-32c1898b2e94",
   "metadata": {},
   "outputs": [],
   "source": [
    "import pandas as pd\n",
    "from datetime import datetime\n",
    "entity_df_btc = pd.DataFrame.from_dict(\n",
    "    {\n",
    "        \"symbol\": \"BTC/USD\",\n",
    "        \"event_timestamp\": [item for item in pd.date_range(datetime.utcfromtimestamp(float(params[\"data_to\"]) ), datetime.utcnow(), freq='5min')]\n",
    "    }\n",
    ")\n",
    "\n",
    "entity_df_eth = pd.DataFrame.from_dict(\n",
    "    {\n",
    "        \"symbol\": \"ETH/USD\",\n",
    "        \"event_timestamp\": [item for item in pd.date_range(datetime.utcfromtimestamp(float(params[\"data_to\"]) ), datetime.utcnow(), freq='5min')]\n",
    "    }\n",
    ")"
   ]
  },
  {
   "cell_type": "code",
   "execution_count": 163,
   "id": "d95b5333-17b0-44b2-8c25-226eb38c5641",
   "metadata": {},
   "outputs": [],
   "source": [
    "from feast import FeatureStore\n",
    "feature_store = FeatureStore('../../demonstration/feature_store/feature_repo')  # Initialize the feature store\n",
    "\n",
    "feature_service = feature_store.get_feature_service(\"crypto_stats\")"
   ]
  },
  {
   "cell_type": "code",
   "execution_count": 164,
   "id": "ec19b96a-6b9f-4ba8-b962-0fa66c560bda",
   "metadata": {},
   "outputs": [],
   "source": [
    "training_df_btc = feature_store.get_historical_features(features=feature_service, entity_df=entity_df_btc).to_df()\n",
    "training_df_eth = feature_store.get_historical_features(features=feature_service, entity_df=entity_df_eth).to_df()"
   ]
  },
  {
   "cell_type": "code",
   "execution_count": 175,
   "id": "6cfd4ec8-61a3-4052-bbc0-22bd1bf032a7",
   "metadata": {},
   "outputs": [],
   "source": [
    "training_df_btc = training_df_btc.set_index(pd.DatetimeIndex(training_df_btc['event_timestamp']))\n",
    "training_df_eth = training_df_eth.set_index(pd.DatetimeIndex(training_df_eth['event_timestamp']))"
   ]
  },
  {
   "cell_type": "code",
   "execution_count": 176,
   "id": "cf2356f1-5c07-4ca4-9559-b4e9fb8e5628",
   "metadata": {},
   "outputs": [],
   "source": [
    "df = training_df_btc.join(training_df_eth, lsuffix=\"_btc\", rsuffix=\"_eth\")"
   ]
  },
  {
   "cell_type": "code",
   "execution_count": 177,
   "id": "ba757303-f8f2-420b-a521-b3cf78127f79",
   "metadata": {},
   "outputs": [
    {
     "data": {
      "text/html": [
       "<div>\n",
       "<style scoped>\n",
       "    .dataframe tbody tr th:only-of-type {\n",
       "        vertical-align: middle;\n",
       "    }\n",
       "\n",
       "    .dataframe tbody tr th {\n",
       "        vertical-align: top;\n",
       "    }\n",
       "\n",
       "    .dataframe thead th {\n",
       "        text-align: right;\n",
       "    }\n",
       "</style>\n",
       "<table border=\"1\" class=\"dataframe\">\n",
       "  <thead>\n",
       "    <tr style=\"text-align: right;\">\n",
       "      <th></th>\n",
       "      <th>symbol_btc</th>\n",
       "      <th>event_timestamp_btc</th>\n",
       "      <th>open_btc</th>\n",
       "      <th>high_btc</th>\n",
       "      <th>low_btc</th>\n",
       "      <th>close_btc</th>\n",
       "      <th>symbol_eth</th>\n",
       "      <th>event_timestamp_eth</th>\n",
       "      <th>open_eth</th>\n",
       "      <th>high_eth</th>\n",
       "      <th>low_eth</th>\n",
       "      <th>close_eth</th>\n",
       "    </tr>\n",
       "    <tr>\n",
       "      <th>event_timestamp</th>\n",
       "      <th></th>\n",
       "      <th></th>\n",
       "      <th></th>\n",
       "      <th></th>\n",
       "      <th></th>\n",
       "      <th></th>\n",
       "      <th></th>\n",
       "      <th></th>\n",
       "      <th></th>\n",
       "      <th></th>\n",
       "      <th></th>\n",
       "      <th></th>\n",
       "    </tr>\n",
       "  </thead>\n",
       "  <tbody>\n",
       "    <tr>\n",
       "      <th>2022-10-06 09:45:00</th>\n",
       "      <td>BTC/USD</td>\n",
       "      <td>2022-10-06 09:45:00</td>\n",
       "      <td>20132.02</td>\n",
       "      <td>20135.74</td>\n",
       "      <td>20128.27</td>\n",
       "      <td>20129.62</td>\n",
       "      <td>ETH/USD</td>\n",
       "      <td>2022-10-06 09:45:00</td>\n",
       "      <td>1358.99</td>\n",
       "      <td>1359.05</td>\n",
       "      <td>1357.98</td>\n",
       "      <td>1357.98</td>\n",
       "    </tr>\n",
       "    <tr>\n",
       "      <th>2022-10-06 09:50:00</th>\n",
       "      <td>BTC/USD</td>\n",
       "      <td>2022-10-06 09:50:00</td>\n",
       "      <td>20132.02</td>\n",
       "      <td>20135.74</td>\n",
       "      <td>20128.27</td>\n",
       "      <td>20129.62</td>\n",
       "      <td>ETH/USD</td>\n",
       "      <td>2022-10-06 09:50:00</td>\n",
       "      <td>1358.99</td>\n",
       "      <td>1359.05</td>\n",
       "      <td>1357.98</td>\n",
       "      <td>1357.98</td>\n",
       "    </tr>\n",
       "    <tr>\n",
       "      <th>2022-10-06 09:55:00</th>\n",
       "      <td>BTC/USD</td>\n",
       "      <td>2022-10-06 09:55:00</td>\n",
       "      <td>20132.02</td>\n",
       "      <td>20135.74</td>\n",
       "      <td>20128.27</td>\n",
       "      <td>20129.62</td>\n",
       "      <td>ETH/USD</td>\n",
       "      <td>2022-10-06 09:55:00</td>\n",
       "      <td>1358.99</td>\n",
       "      <td>1359.05</td>\n",
       "      <td>1357.98</td>\n",
       "      <td>1357.98</td>\n",
       "    </tr>\n",
       "    <tr>\n",
       "      <th>2022-10-06 10:00:00</th>\n",
       "      <td>BTC/USD</td>\n",
       "      <td>2022-10-06 10:00:00</td>\n",
       "      <td>20132.02</td>\n",
       "      <td>20135.74</td>\n",
       "      <td>20128.27</td>\n",
       "      <td>20129.62</td>\n",
       "      <td>ETH/USD</td>\n",
       "      <td>2022-10-06 10:00:00</td>\n",
       "      <td>1358.99</td>\n",
       "      <td>1359.05</td>\n",
       "      <td>1357.98</td>\n",
       "      <td>1357.98</td>\n",
       "    </tr>\n",
       "    <tr>\n",
       "      <th>2022-10-06 10:05:00</th>\n",
       "      <td>BTC/USD</td>\n",
       "      <td>2022-10-06 10:05:00</td>\n",
       "      <td>20132.02</td>\n",
       "      <td>20135.74</td>\n",
       "      <td>20128.27</td>\n",
       "      <td>20129.62</td>\n",
       "      <td>ETH/USD</td>\n",
       "      <td>2022-10-06 10:05:00</td>\n",
       "      <td>1358.99</td>\n",
       "      <td>1359.05</td>\n",
       "      <td>1357.98</td>\n",
       "      <td>1357.98</td>\n",
       "    </tr>\n",
       "    <tr>\n",
       "      <th>2022-10-06 10:10:00</th>\n",
       "      <td>BTC/USD</td>\n",
       "      <td>2022-10-06 10:10:00</td>\n",
       "      <td>20132.02</td>\n",
       "      <td>20135.74</td>\n",
       "      <td>20128.27</td>\n",
       "      <td>20129.62</td>\n",
       "      <td>ETH/USD</td>\n",
       "      <td>2022-10-06 10:10:00</td>\n",
       "      <td>1358.99</td>\n",
       "      <td>1359.05</td>\n",
       "      <td>1357.98</td>\n",
       "      <td>1357.98</td>\n",
       "    </tr>\n",
       "    <tr>\n",
       "      <th>2022-10-06 10:15:00</th>\n",
       "      <td>BTC/USD</td>\n",
       "      <td>2022-10-06 10:15:00</td>\n",
       "      <td>20132.02</td>\n",
       "      <td>20135.74</td>\n",
       "      <td>20128.27</td>\n",
       "      <td>20129.62</td>\n",
       "      <td>ETH/USD</td>\n",
       "      <td>2022-10-06 10:15:00</td>\n",
       "      <td>1358.99</td>\n",
       "      <td>1359.05</td>\n",
       "      <td>1357.98</td>\n",
       "      <td>1357.98</td>\n",
       "    </tr>\n",
       "    <tr>\n",
       "      <th>2022-10-06 10:20:00</th>\n",
       "      <td>BTC/USD</td>\n",
       "      <td>2022-10-06 10:20:00</td>\n",
       "      <td>20132.02</td>\n",
       "      <td>20135.74</td>\n",
       "      <td>20128.27</td>\n",
       "      <td>20129.62</td>\n",
       "      <td>ETH/USD</td>\n",
       "      <td>2022-10-06 10:20:00</td>\n",
       "      <td>1358.99</td>\n",
       "      <td>1359.05</td>\n",
       "      <td>1357.98</td>\n",
       "      <td>1357.98</td>\n",
       "    </tr>\n",
       "    <tr>\n",
       "      <th>2022-10-06 10:25:00</th>\n",
       "      <td>BTC/USD</td>\n",
       "      <td>2022-10-06 10:25:00</td>\n",
       "      <td>20132.02</td>\n",
       "      <td>20135.74</td>\n",
       "      <td>20128.27</td>\n",
       "      <td>20129.62</td>\n",
       "      <td>ETH/USD</td>\n",
       "      <td>2022-10-06 10:25:00</td>\n",
       "      <td>1358.99</td>\n",
       "      <td>1359.05</td>\n",
       "      <td>1357.98</td>\n",
       "      <td>1357.98</td>\n",
       "    </tr>\n",
       "    <tr>\n",
       "      <th>2022-10-06 10:30:00</th>\n",
       "      <td>BTC/USD</td>\n",
       "      <td>2022-10-06 10:30:00</td>\n",
       "      <td>20132.02</td>\n",
       "      <td>20135.74</td>\n",
       "      <td>20128.27</td>\n",
       "      <td>20129.62</td>\n",
       "      <td>ETH/USD</td>\n",
       "      <td>2022-10-06 10:30:00</td>\n",
       "      <td>1358.99</td>\n",
       "      <td>1359.05</td>\n",
       "      <td>1357.98</td>\n",
       "      <td>1357.98</td>\n",
       "    </tr>\n",
       "    <tr>\n",
       "      <th>2022-10-06 10:35:00</th>\n",
       "      <td>BTC/USD</td>\n",
       "      <td>2022-10-06 10:35:00</td>\n",
       "      <td>20132.02</td>\n",
       "      <td>20135.74</td>\n",
       "      <td>20128.27</td>\n",
       "      <td>20129.62</td>\n",
       "      <td>ETH/USD</td>\n",
       "      <td>2022-10-06 10:35:00</td>\n",
       "      <td>1358.99</td>\n",
       "      <td>1359.05</td>\n",
       "      <td>1357.98</td>\n",
       "      <td>1357.98</td>\n",
       "    </tr>\n",
       "    <tr>\n",
       "      <th>2022-10-06 10:40:00</th>\n",
       "      <td>BTC/USD</td>\n",
       "      <td>2022-10-06 10:40:00</td>\n",
       "      <td>20132.02</td>\n",
       "      <td>20135.74</td>\n",
       "      <td>20128.27</td>\n",
       "      <td>20129.62</td>\n",
       "      <td>ETH/USD</td>\n",
       "      <td>2022-10-06 10:40:00</td>\n",
       "      <td>1358.99</td>\n",
       "      <td>1359.05</td>\n",
       "      <td>1357.98</td>\n",
       "      <td>1357.98</td>\n",
       "    </tr>\n",
       "    <tr>\n",
       "      <th>2022-10-06 10:45:00</th>\n",
       "      <td>BTC/USD</td>\n",
       "      <td>2022-10-06 10:45:00</td>\n",
       "      <td>20132.02</td>\n",
       "      <td>20135.74</td>\n",
       "      <td>20128.27</td>\n",
       "      <td>20129.62</td>\n",
       "      <td>ETH/USD</td>\n",
       "      <td>2022-10-06 10:45:00</td>\n",
       "      <td>1358.99</td>\n",
       "      <td>1359.05</td>\n",
       "      <td>1357.98</td>\n",
       "      <td>1357.98</td>\n",
       "    </tr>\n",
       "    <tr>\n",
       "      <th>2022-10-06 10:50:00</th>\n",
       "      <td>BTC/USD</td>\n",
       "      <td>2022-10-06 10:50:00</td>\n",
       "      <td>20132.02</td>\n",
       "      <td>20135.74</td>\n",
       "      <td>20128.27</td>\n",
       "      <td>20129.62</td>\n",
       "      <td>ETH/USD</td>\n",
       "      <td>2022-10-06 10:50:00</td>\n",
       "      <td>1358.99</td>\n",
       "      <td>1359.05</td>\n",
       "      <td>1357.98</td>\n",
       "      <td>1357.98</td>\n",
       "    </tr>\n",
       "    <tr>\n",
       "      <th>2022-10-06 10:55:00</th>\n",
       "      <td>BTC/USD</td>\n",
       "      <td>2022-10-06 10:55:00</td>\n",
       "      <td>20132.02</td>\n",
       "      <td>20135.74</td>\n",
       "      <td>20128.27</td>\n",
       "      <td>20129.62</td>\n",
       "      <td>ETH/USD</td>\n",
       "      <td>2022-10-06 10:55:00</td>\n",
       "      <td>1358.99</td>\n",
       "      <td>1359.05</td>\n",
       "      <td>1357.98</td>\n",
       "      <td>1357.98</td>\n",
       "    </tr>\n",
       "    <tr>\n",
       "      <th>2022-10-06 11:00:00</th>\n",
       "      <td>BTC/USD</td>\n",
       "      <td>2022-10-06 11:00:00</td>\n",
       "      <td>20132.02</td>\n",
       "      <td>20135.74</td>\n",
       "      <td>20128.27</td>\n",
       "      <td>20129.62</td>\n",
       "      <td>ETH/USD</td>\n",
       "      <td>2022-10-06 11:00:00</td>\n",
       "      <td>1358.99</td>\n",
       "      <td>1359.05</td>\n",
       "      <td>1357.98</td>\n",
       "      <td>1357.98</td>\n",
       "    </tr>\n",
       "    <tr>\n",
       "      <th>2022-10-06 11:05:00</th>\n",
       "      <td>BTC/USD</td>\n",
       "      <td>2022-10-06 11:05:00</td>\n",
       "      <td>20132.02</td>\n",
       "      <td>20135.74</td>\n",
       "      <td>20128.27</td>\n",
       "      <td>20129.62</td>\n",
       "      <td>ETH/USD</td>\n",
       "      <td>2022-10-06 11:05:00</td>\n",
       "      <td>1358.99</td>\n",
       "      <td>1359.05</td>\n",
       "      <td>1357.98</td>\n",
       "      <td>1357.98</td>\n",
       "    </tr>\n",
       "  </tbody>\n",
       "</table>\n",
       "</div>"
      ],
      "text/plain": [
       "                    symbol_btc event_timestamp_btc  open_btc  high_btc  \\\n",
       "event_timestamp                                                          \n",
       "2022-10-06 09:45:00    BTC/USD 2022-10-06 09:45:00  20132.02  20135.74   \n",
       "2022-10-06 09:50:00    BTC/USD 2022-10-06 09:50:00  20132.02  20135.74   \n",
       "2022-10-06 09:55:00    BTC/USD 2022-10-06 09:55:00  20132.02  20135.74   \n",
       "2022-10-06 10:00:00    BTC/USD 2022-10-06 10:00:00  20132.02  20135.74   \n",
       "2022-10-06 10:05:00    BTC/USD 2022-10-06 10:05:00  20132.02  20135.74   \n",
       "2022-10-06 10:10:00    BTC/USD 2022-10-06 10:10:00  20132.02  20135.74   \n",
       "2022-10-06 10:15:00    BTC/USD 2022-10-06 10:15:00  20132.02  20135.74   \n",
       "2022-10-06 10:20:00    BTC/USD 2022-10-06 10:20:00  20132.02  20135.74   \n",
       "2022-10-06 10:25:00    BTC/USD 2022-10-06 10:25:00  20132.02  20135.74   \n",
       "2022-10-06 10:30:00    BTC/USD 2022-10-06 10:30:00  20132.02  20135.74   \n",
       "2022-10-06 10:35:00    BTC/USD 2022-10-06 10:35:00  20132.02  20135.74   \n",
       "2022-10-06 10:40:00    BTC/USD 2022-10-06 10:40:00  20132.02  20135.74   \n",
       "2022-10-06 10:45:00    BTC/USD 2022-10-06 10:45:00  20132.02  20135.74   \n",
       "2022-10-06 10:50:00    BTC/USD 2022-10-06 10:50:00  20132.02  20135.74   \n",
       "2022-10-06 10:55:00    BTC/USD 2022-10-06 10:55:00  20132.02  20135.74   \n",
       "2022-10-06 11:00:00    BTC/USD 2022-10-06 11:00:00  20132.02  20135.74   \n",
       "2022-10-06 11:05:00    BTC/USD 2022-10-06 11:05:00  20132.02  20135.74   \n",
       "\n",
       "                      low_btc  close_btc symbol_eth event_timestamp_eth  \\\n",
       "event_timestamp                                                           \n",
       "2022-10-06 09:45:00  20128.27   20129.62    ETH/USD 2022-10-06 09:45:00   \n",
       "2022-10-06 09:50:00  20128.27   20129.62    ETH/USD 2022-10-06 09:50:00   \n",
       "2022-10-06 09:55:00  20128.27   20129.62    ETH/USD 2022-10-06 09:55:00   \n",
       "2022-10-06 10:00:00  20128.27   20129.62    ETH/USD 2022-10-06 10:00:00   \n",
       "2022-10-06 10:05:00  20128.27   20129.62    ETH/USD 2022-10-06 10:05:00   \n",
       "2022-10-06 10:10:00  20128.27   20129.62    ETH/USD 2022-10-06 10:10:00   \n",
       "2022-10-06 10:15:00  20128.27   20129.62    ETH/USD 2022-10-06 10:15:00   \n",
       "2022-10-06 10:20:00  20128.27   20129.62    ETH/USD 2022-10-06 10:20:00   \n",
       "2022-10-06 10:25:00  20128.27   20129.62    ETH/USD 2022-10-06 10:25:00   \n",
       "2022-10-06 10:30:00  20128.27   20129.62    ETH/USD 2022-10-06 10:30:00   \n",
       "2022-10-06 10:35:00  20128.27   20129.62    ETH/USD 2022-10-06 10:35:00   \n",
       "2022-10-06 10:40:00  20128.27   20129.62    ETH/USD 2022-10-06 10:40:00   \n",
       "2022-10-06 10:45:00  20128.27   20129.62    ETH/USD 2022-10-06 10:45:00   \n",
       "2022-10-06 10:50:00  20128.27   20129.62    ETH/USD 2022-10-06 10:50:00   \n",
       "2022-10-06 10:55:00  20128.27   20129.62    ETH/USD 2022-10-06 10:55:00   \n",
       "2022-10-06 11:00:00  20128.27   20129.62    ETH/USD 2022-10-06 11:00:00   \n",
       "2022-10-06 11:05:00  20128.27   20129.62    ETH/USD 2022-10-06 11:05:00   \n",
       "\n",
       "                     open_eth  high_eth  low_eth  close_eth  \n",
       "event_timestamp                                              \n",
       "2022-10-06 09:45:00   1358.99   1359.05  1357.98    1357.98  \n",
       "2022-10-06 09:50:00   1358.99   1359.05  1357.98    1357.98  \n",
       "2022-10-06 09:55:00   1358.99   1359.05  1357.98    1357.98  \n",
       "2022-10-06 10:00:00   1358.99   1359.05  1357.98    1357.98  \n",
       "2022-10-06 10:05:00   1358.99   1359.05  1357.98    1357.98  \n",
       "2022-10-06 10:10:00   1358.99   1359.05  1357.98    1357.98  \n",
       "2022-10-06 10:15:00   1358.99   1359.05  1357.98    1357.98  \n",
       "2022-10-06 10:20:00   1358.99   1359.05  1357.98    1357.98  \n",
       "2022-10-06 10:25:00   1358.99   1359.05  1357.98    1357.98  \n",
       "2022-10-06 10:30:00   1358.99   1359.05  1357.98    1357.98  \n",
       "2022-10-06 10:35:00   1358.99   1359.05  1357.98    1357.98  \n",
       "2022-10-06 10:40:00   1358.99   1359.05  1357.98    1357.98  \n",
       "2022-10-06 10:45:00   1358.99   1359.05  1357.98    1357.98  \n",
       "2022-10-06 10:50:00   1358.99   1359.05  1357.98    1357.98  \n",
       "2022-10-06 10:55:00   1358.99   1359.05  1357.98    1357.98  \n",
       "2022-10-06 11:00:00   1358.99   1359.05  1357.98    1357.98  \n",
       "2022-10-06 11:05:00   1358.99   1359.05  1357.98    1357.98  "
      ]
     },
     "execution_count": 177,
     "metadata": {},
     "output_type": "execute_result"
    }
   ],
   "source": [
    "df"
   ]
  },
  {
   "cell_type": "code",
   "execution_count": 178,
   "id": "8ad80b46-3cf7-4cab-b45f-cc1856770283",
   "metadata": {},
   "outputs": [],
   "source": [
    "df = df.dropna()\n",
    "first = df.index[0].timestamp()\n",
    "last = df.index[-1].timestamp()"
   ]
  },
  {
   "cell_type": "code",
   "execution_count": 179,
   "id": "20ee3bef-899a-48af-b719-2f65272818c2",
   "metadata": {},
   "outputs": [],
   "source": [
    "df['y'] = df['close_btc'].shift(-1)\n",
    "df = df[:-1]"
   ]
  },
  {
   "cell_type": "code",
   "execution_count": 181,
   "id": "b893b3b8-1ad4-4f94-a962-850c987a1ca6",
   "metadata": {},
   "outputs": [],
   "source": [
    "df = df[[\"open_btc\" ,\"high_btc\", \"low_btc\", \"close_btc\", \"open_eth\" ,\"high_eth\", \"low_eth\", \"close_eth\", \"y\"]].drop_duplicates() "
   ]
  },
  {
   "cell_type": "code",
   "execution_count": 182,
   "id": "6c98c19c-c9e1-449a-83c8-2622fbd6cea3",
   "metadata": {},
   "outputs": [
    {
     "data": {
      "text/html": [
       "<div>\n",
       "<style scoped>\n",
       "    .dataframe tbody tr th:only-of-type {\n",
       "        vertical-align: middle;\n",
       "    }\n",
       "\n",
       "    .dataframe tbody tr th {\n",
       "        vertical-align: top;\n",
       "    }\n",
       "\n",
       "    .dataframe thead th {\n",
       "        text-align: right;\n",
       "    }\n",
       "</style>\n",
       "<table border=\"1\" class=\"dataframe\">\n",
       "  <thead>\n",
       "    <tr style=\"text-align: right;\">\n",
       "      <th></th>\n",
       "      <th>open_btc</th>\n",
       "      <th>high_btc</th>\n",
       "      <th>low_btc</th>\n",
       "      <th>close_btc</th>\n",
       "      <th>open_eth</th>\n",
       "      <th>high_eth</th>\n",
       "      <th>low_eth</th>\n",
       "      <th>close_eth</th>\n",
       "      <th>y</th>\n",
       "    </tr>\n",
       "    <tr>\n",
       "      <th>event_timestamp</th>\n",
       "      <th></th>\n",
       "      <th></th>\n",
       "      <th></th>\n",
       "      <th></th>\n",
       "      <th></th>\n",
       "      <th></th>\n",
       "      <th></th>\n",
       "      <th></th>\n",
       "      <th></th>\n",
       "    </tr>\n",
       "  </thead>\n",
       "  <tbody>\n",
       "    <tr>\n",
       "      <th>2022-10-06 09:45:00</th>\n",
       "      <td>20132.02</td>\n",
       "      <td>20135.74</td>\n",
       "      <td>20128.27</td>\n",
       "      <td>20129.62</td>\n",
       "      <td>1358.99</td>\n",
       "      <td>1359.05</td>\n",
       "      <td>1357.98</td>\n",
       "      <td>1357.98</td>\n",
       "      <td>20129.62</td>\n",
       "    </tr>\n",
       "  </tbody>\n",
       "</table>\n",
       "</div>"
      ],
      "text/plain": [
       "                     open_btc  high_btc   low_btc  close_btc  open_eth  \\\n",
       "event_timestamp                                                          \n",
       "2022-10-06 09:45:00  20132.02  20135.74  20128.27   20129.62   1358.99   \n",
       "\n",
       "                     high_eth  low_eth  close_eth         y  \n",
       "event_timestamp                                              \n",
       "2022-10-06 09:45:00   1359.05  1357.98    1357.98  20129.62  "
      ]
     },
     "execution_count": 182,
     "metadata": {},
     "output_type": "execute_result"
    }
   ],
   "source": [
    "df"
   ]
  },
  {
   "cell_type": "code",
   "execution_count": 95,
   "id": "6d2251ce-d827-4f29-af46-a39599a02c1c",
   "metadata": {},
   "outputs": [],
   "source": [
    "from sklearn.model_selection import train_test_split\n",
    "random_state = 42\n",
    "train_size = 0.8\n",
    "X = df[[\"open_btc\" ,\"high_btc\", \"low_btc\", \"close_btc\", \"open_eth\" ,\"high_eth\", \"low_eth\", \"close_eth\"]]\n",
    "y = df['y']\n",
    "\n",
    "X_train, X_test, y_train, y_test = train_test_split(X, y, train_size=train_size, random_state=random_state)"
   ]
  },
  {
   "cell_type": "markdown",
   "id": "fabd8adf-b47f-4c19-a92a-915cab9490b4",
   "metadata": {},
   "source": [
    "# Stateful Training"
   ]
  },
  {
   "cell_type": "markdown",
   "id": "bbe48173-391e-47e4-9af6-3ee1a89d57c0",
   "metadata": {},
   "source": [
    "## Get Keras Model"
   ]
  },
  {
   "cell_type": "code",
   "execution_count": 96,
   "id": "a38dec9b-3405-4f22-8c3d-abc3ed6f6a5d",
   "metadata": {},
   "outputs": [
    {
     "name": "stderr",
     "output_type": "stream",
     "text": [
      "/home/pierre/miniconda3/envs/realtime-mlops/lib/python3.10/random.py:370: DeprecationWarning: non-integer arguments to randrange() have been deprecated since Python 3.10 and will be removed in a subsequent version\n",
      "  return self.randrange(a, b+1)\n"
     ]
    }
   ],
   "source": [
    "model = mlflow.keras.load_model(\n",
    "    model_uri=f\"models:/{version.name}/{version.version}\"\n",
    ")"
   ]
  },
  {
   "cell_type": "markdown",
   "id": "09a44eda-1e81-4521-bf97-a982bff6ecfc",
   "metadata": {},
   "source": [
    "## Fit Keras Model"
   ]
  },
  {
   "cell_type": "code",
   "execution_count": 110,
   "id": "ae0a7630-40da-47a7-90de-727f797f51d2",
   "metadata": {},
   "outputs": [],
   "source": [
    "from sklearn.metrics import mean_squared_error, mean_absolute_error, r2_score\n",
    "\n",
    "def eval_metrics(actual, pred):\n",
    "    rmse = np.sqrt(mean_squared_error(actual, pred))\n",
    "    mae = mean_absolute_error(actual, pred)\n",
    "    r2 = r2_score(actual, pred)\n",
    "    return rmse, mae, r2"
   ]
  },
  {
   "cell_type": "code",
   "execution_count": 105,
   "id": "62a4cdf8-bdfc-44e2-908c-cb0d2dca73f0",
   "metadata": {},
   "outputs": [],
   "source": [
    "import numpy as np\n",
    "import tensorflow as tf\n",
    "import logging\n",
    "\n",
    "np.random.seed(random_state)\n",
    "tf.random.set_seed(random_state) \n",
    "\n",
    "logger = logging.getLogger(__name__)"
   ]
  },
  {
   "cell_type": "code",
   "execution_count": 113,
   "id": "ce1466dd-c78b-4ccd-8afe-fdd92e94ddea",
   "metadata": {},
   "outputs": [
    {
     "name": "stdout",
     "output_type": "stream",
     "text": [
      "Epoch 1/15\n",
      "1/1 [==============================] - 0s 82ms/step - loss: 3528.6882 - val_loss: 731.6401\n",
      "Epoch 2/15\n",
      "1/1 [==============================] - 0s 31ms/step - loss: 136.1423 - val_loss: 1834.9414\n",
      "Epoch 3/15\n",
      "1/1 [==============================] - 0s 64ms/step - loss: 1784.3511 - val_loss: 4933.7480\n",
      "Epoch 4/15\n",
      "1/1 [==============================] - 0s 37ms/step - loss: 5222.1240 - val_loss: 5308.2363\n",
      "Epoch 5/15\n",
      "1/1 [==============================] - 0s 52ms/step - loss: 5627.9116 - val_loss: 2619.0457\n",
      "Epoch 6/15\n",
      "1/1 [==============================] - 0s 34ms/step - loss: 2675.9783 - val_loss: 592.9324\n",
      "Epoch 7/15\n",
      "1/1 [==============================] - 0s 35ms/step - loss: 212.3004 - val_loss: 1695.6647\n",
      "Epoch 8/15\n",
      "1/1 [==============================] - 0s 37ms/step - loss: 872.9787 - val_loss: 4135.9771\n",
      "Epoch 9/15\n",
      "1/1 [==============================] - 0s 60ms/step - loss: 3024.7200 - val_loss: 4634.8525\n",
      "Epoch 10/15\n",
      "1/1 [==============================] - 0s 46ms/step - loss: 3479.0637 - val_loss: 2695.2017\n",
      "Epoch 11/15\n",
      "1/1 [==============================] - 0s 32ms/step - loss: 1734.1110 - val_loss: 788.8486\n",
      "Epoch 12/15\n",
      "1/1 [==============================] - 0s 37ms/step - loss: 171.1943 - val_loss: 827.3685\n",
      "Epoch 13/15\n",
      "1/1 [==============================] - 0s 36ms/step - loss: 562.1213 - val_loss: 1927.9255\n",
      "Epoch 14/15\n",
      "1/1 [==============================] - 0s 40ms/step - loss: 1891.8004 - val_loss: 2123.6523\n",
      "Epoch 15/15\n",
      "1/1 [==============================] - 0s 50ms/step - loss: 2115.9548 - val_loss: 1165.5870\n",
      "INFO:tensorflow:Assets written to: /tmp/tmpq47nfdxq/model/data/model/assets\n",
      "1/1 [==============================] - 0s 23ms/step\n"
     ]
    },
    {
     "name": "stderr",
     "output_type": "stream",
     "text": [
      "/home/pierre/miniconda3/envs/realtime-mlops/lib/python3.10/site-packages/mlflow/keras.py:405: UserWarning: The pyfunc inference behavior of Keras models logged with signatures differs from the behavior of Keras models logged without signatures. Specifically, when a signature is present, passing a Pandas DataFrame as input to the pyfunc `predict()` API produces an `ndarray` (for single-output models) or a dictionary of `str -> ndarray`: (for multi-output models). In contrast, when a signature is *not* present, `predict()` produces a Pandas DataFrame output in response to a Pandas DataFrame input.\n",
      "  warnings.warn(\n"
     ]
    },
    {
     "name": "stdout",
     "output_type": "stream",
     "text": [
      "INFO:tensorflow:Assets written to: /tmp/tmp0ql18qm2/model/data/model/assets\n"
     ]
    },
    {
     "name": "stderr",
     "output_type": "stream",
     "text": [
      "Registered model 'BitcoinForecast' already exists. Creating a new version of this model...\n",
      "2022/10/06 10:36:07 INFO mlflow.tracking._model_registry.client: Waiting up to 300 seconds for model version to finish creation.                     Model name: BitcoinForecast, version 2\n",
      "Created version '2' of model 'BitcoinForecast'.\n"
     ]
    },
    {
     "ename": "NameError",
     "evalue": "name 'model_artifact_name' is not defined",
     "output_type": "error",
     "traceback": [
      "\u001b[0;31m---------------------------------------------------------------------------\u001b[0m",
      "\u001b[0;31mNameError\u001b[0m                                 Traceback (most recent call last)",
      "Input \u001b[0;32mIn [113]\u001b[0m, in \u001b[0;36m<cell line: 36>\u001b[0;34m()\u001b[0m\n\u001b[1;32m     31\u001b[0m     info \u001b[38;5;241m=\u001b[39m mlflow\u001b[38;5;241m.\u001b[39mkeras\u001b[38;5;241m.\u001b[39mlog_model(model, version\u001b[38;5;241m.\u001b[39mname, registered_model_name\u001b[38;5;241m=\u001b[39m\u001b[38;5;124m\"\u001b[39m\u001b[38;5;124mBitcoinForecast\u001b[39m\u001b[38;5;124m\"\u001b[39m, signature\u001b[38;5;241m=\u001b[39mmodel_signature)\n\u001b[1;32m     33\u001b[0m     uri \u001b[38;5;241m=\u001b[39m mlflow\u001b[38;5;241m.\u001b[39mget_artifact_uri()\n\u001b[0;32m---> 36\u001b[0m storage_uri \u001b[38;5;241m=\u001b[39m \u001b[38;5;124mf\u001b[39m\u001b[38;5;124m\"\u001b[39m\u001b[38;5;132;01m{\u001b[39;00muri\u001b[38;5;132;01m}\u001b[39;00m\u001b[38;5;124m/\u001b[39m\u001b[38;5;132;01m{\u001b[39;00mmodel_artifact_name\u001b[38;5;132;01m}\u001b[39;00m\u001b[38;5;124m\"\u001b[39m\n",
      "\u001b[0;31mNameError\u001b[0m: name 'model_artifact_name' is not defined"
     ]
    }
   ],
   "source": [
    "from mlflow.models.signature import infer_signature\n",
    "\n",
    "with mlflow.start_run():\n",
    "    mlflow.tensorflow.autolog()\n",
    "    \n",
    "#    if not model:\n",
    "        model = Sequential()\n",
    "        model.add(Dense(32, input_shape=(X_train.shape[-1],), activation=\"relu\", name=\"hidden_layer\"))\n",
    "        model.add(Dense(32))\n",
    "        model.add(Dense(1))\n",
    "        model.compile(loss=\"mse\", optimizer=\"adam\")\n",
    "    \n",
    "    model.fit(X_train, y_train, epochs=15, batch_size=100, validation_split=.2)\n",
    "            \n",
    "    # Evaluate the best model with testing data.\n",
    "    y_hat = model.predict(X_test)\n",
    "    (rmse, mae, r2) = eval_metrics(y_test, y_hat)\n",
    "    mlflow.log_param(\"data_from\", first)\n",
    "    mlflow.log_param(\"data_to\", last)\n",
    "    mlflow.log_param(\"feature_view\", \"crypto_stats\")\n",
    "    mlflow.log_param(\"framework\", \"tensorflow\")\n",
    "    mlflow.log_param(\"version\", tf.__version__)\n",
    "    mlflow.log_param(\"random_state\", random_state)\n",
    "    mlflow.log_metric(\"rmse\", rmse)\n",
    "    mlflow.log_metric(\"r2\", r2)\n",
    "    mlflow.log_metric(\"mae\", mae)\n",
    "    lr = res = {\"lr_\" + str(key): val for key, val in model.optimizer.get_config().items()}\n",
    "    mlflow.log_params(lr)\n",
    "    \n",
    "    model_signature = infer_signature(X_train, y_train)\n",
    "    info = mlflow.keras.log_model(model, version.name, registered_model_name=\"BitcoinForecast\", signature=model_signature)\n",
    "    \n",
    "    uri = mlflow.get_artifact_uri()\n",
    "\n",
    "\n"
   ]
  },
  {
   "cell_type": "code",
   "execution_count": 116,
   "id": "9b08986c-e5d5-4558-a4e5-0301addd4daf",
   "metadata": {},
   "outputs": [],
   "source": [
    "storage_uri = f\"{uri}/{version.name}\""
   ]
  },
  {
   "cell_type": "code",
   "execution_count": 117,
   "id": "74091369-a3ac-40c9-92f1-4665227fdb30",
   "metadata": {},
   "outputs": [
    {
     "data": {
      "text/plain": [
       "'s3://mlflow/1/0a2df9ab40bc432ebd45d6931bc485c0/artifacts/BitcoinForecast'"
      ]
     },
     "execution_count": 117,
     "metadata": {},
     "output_type": "execute_result"
    }
   ],
   "source": [
    "storage_uri"
   ]
  },
  {
   "cell_type": "code",
   "execution_count": 120,
   "id": "5f9eed5a-ffb2-4f19-ba57-847aaf96454a",
   "metadata": {},
   "outputs": [],
   "source": [
    "template = f\"\"\"\n",
    "apiVersion: \"serving.kserve.io/v1beta1\"\n",
    "kind: \"InferenceService\"\n",
    "metadata:\n",
    "  name: \"bitcoin-forecast\"\n",
    "  namespace: default\n",
    "  labels:\n",
    "    networking.knative.dev/visibility: cluster-local\n",
    "spec:\n",
    "  predictor:\n",
    "    serviceAccountName: sa-s3\n",
    "    model:\n",
    "      modelFormat:\n",
    "        name: mlflow\n",
    "      protocolVersion: v2\n",
    "      storageUri: {storage_uri}\n",
    "  transformer:\n",
    "    logger: \n",
    "      mode: response\n",
    "      url: http://kafka-broker-ingress.knative-eventing.svc.cluster.local/default/crypto-prediction\n",
    "    containers:\n",
    "    - image: piepra/feast-transformer:1.8\n",
    "      name: btc-transfomer\n",
    "      command:\n",
    "      - \"python\"\n",
    "      - \"app/app.py\"\n",
    "      args:\n",
    "      - --feast_serving_url\n",
    "      - feast-feature-server.feast.svc.cluster.local:80\n",
    "      - --entity_ids\n",
    "      - \"BTC/USD\"\n",
    "      - --feature_refs\n",
    "      - \"crypto_stats:open\"\n",
    "      - \"crypto_stats:high\"\n",
    "      - \"crypto_stats:low\"\n",
    "      - \"crypto_stats:close\"\n",
    "      - --protocol\n",
    "      - v2\n",
    "\"\"\"\n",
    "\n",
    "with open('../../demonstration/feast-kserve-transform/deployment/isvc.yaml', 'w+') as f:\n",
    "    f.writelines(template)\n",
    "    logging.info(\"wrote to demonstration/feast-kserve-transform/deployment/isvc.yaml\")"
   ]
  },
  {
   "cell_type": "code",
   "execution_count": 122,
   "id": "5f333be6-2301-4116-a6c3-6cea17db84b5",
   "metadata": {},
   "outputs": [
    {
     "name": "stdout",
     "output_type": "stream",
     "text": [
      "inferenceservice.serving.kserve.io/bitcoin-forecast configured\n"
     ]
    }
   ],
   "source": [
    "!kubectl apply -f ../../demonstration/feast-kserve-transform/deployment/isvc.yaml"
   ]
  }
 ],
 "metadata": {
  "kernelspec": {
   "display_name": "Python 3.10.4 ('realtime-mlops')",
   "language": "python",
   "name": "python3"
  },
  "language_info": {
   "codemirror_mode": {
    "name": "ipython",
    "version": 3
   },
   "file_extension": ".py",
   "mimetype": "text/x-python",
   "name": "python",
   "nbconvert_exporter": "python",
   "pygments_lexer": "ipython3",
   "version": "3.10.4"
  },
  "vscode": {
   "interpreter": {
    "hash": "c6556c4435ff5b64c0c2f5b1f04afd46d3dbf4b67013ab3949822d488cc2a26f"
   }
  }
 },
 "nbformat": 4,
 "nbformat_minor": 5
}
